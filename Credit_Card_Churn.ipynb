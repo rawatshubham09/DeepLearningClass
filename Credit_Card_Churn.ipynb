{
 "cells": [
  {
   "cell_type": "code",
   "execution_count": 38,
   "id": "7a4943f5",
   "metadata": {},
   "outputs": [],
   "source": [
    "import pandas as pd\n",
    "import numpy as np\n",
    "import matplotlib.pyplot as plt\n",
    "from sklearn.model_selection import train_test_split\n",
    "from sklearn.metrics import accuracy_score, roc_auc_score,roc_curve,plot_roc_curve\n",
    "\n",
    "%matplotlib inline"
   ]
  },
  {
   "cell_type": "code",
   "execution_count": 5,
   "id": "3aaa63f0",
   "metadata": {},
   "outputs": [
    {
     "data": {
      "text/html": [
       "<div>\n",
       "<style scoped>\n",
       "    .dataframe tbody tr th:only-of-type {\n",
       "        vertical-align: middle;\n",
       "    }\n",
       "\n",
       "    .dataframe tbody tr th {\n",
       "        vertical-align: top;\n",
       "    }\n",
       "\n",
       "    .dataframe thead th {\n",
       "        text-align: right;\n",
       "    }\n",
       "</style>\n",
       "<table border=\"1\" class=\"dataframe\">\n",
       "  <thead>\n",
       "    <tr style=\"text-align: right;\">\n",
       "      <th></th>\n",
       "      <th>RowNumber</th>\n",
       "      <th>CustomerId</th>\n",
       "      <th>Surname</th>\n",
       "      <th>CreditScore</th>\n",
       "      <th>Geography</th>\n",
       "      <th>Gender</th>\n",
       "      <th>Age</th>\n",
       "      <th>Tenure</th>\n",
       "      <th>Balance</th>\n",
       "      <th>NumOfProducts</th>\n",
       "      <th>HasCrCard</th>\n",
       "      <th>IsActiveMember</th>\n",
       "      <th>EstimatedSalary</th>\n",
       "      <th>Exited</th>\n",
       "    </tr>\n",
       "  </thead>\n",
       "  <tbody>\n",
       "    <tr>\n",
       "      <th>650</th>\n",
       "      <td>651</td>\n",
       "      <td>15730447</td>\n",
       "      <td>Anderson</td>\n",
       "      <td>629</td>\n",
       "      <td>France</td>\n",
       "      <td>Female</td>\n",
       "      <td>49</td>\n",
       "      <td>4</td>\n",
       "      <td>0.00</td>\n",
       "      <td>2</td>\n",
       "      <td>1</td>\n",
       "      <td>1</td>\n",
       "      <td>196335.48</td>\n",
       "      <td>0</td>\n",
       "    </tr>\n",
       "    <tr>\n",
       "      <th>2624</th>\n",
       "      <td>2625</td>\n",
       "      <td>15788946</td>\n",
       "      <td>Anthony</td>\n",
       "      <td>605</td>\n",
       "      <td>Spain</td>\n",
       "      <td>Female</td>\n",
       "      <td>29</td>\n",
       "      <td>3</td>\n",
       "      <td>116805.82</td>\n",
       "      <td>1</td>\n",
       "      <td>0</td>\n",
       "      <td>0</td>\n",
       "      <td>4092.75</td>\n",
       "      <td>0</td>\n",
       "    </tr>\n",
       "    <tr>\n",
       "      <th>7934</th>\n",
       "      <td>7935</td>\n",
       "      <td>15803886</td>\n",
       "      <td>Barber</td>\n",
       "      <td>629</td>\n",
       "      <td>Spain</td>\n",
       "      <td>Male</td>\n",
       "      <td>31</td>\n",
       "      <td>6</td>\n",
       "      <td>132876.55</td>\n",
       "      <td>1</td>\n",
       "      <td>1</td>\n",
       "      <td>1</td>\n",
       "      <td>130862.11</td>\n",
       "      <td>0</td>\n",
       "    </tr>\n",
       "    <tr>\n",
       "      <th>2117</th>\n",
       "      <td>2118</td>\n",
       "      <td>15652540</td>\n",
       "      <td>Garnsey</td>\n",
       "      <td>683</td>\n",
       "      <td>France</td>\n",
       "      <td>Male</td>\n",
       "      <td>31</td>\n",
       "      <td>2</td>\n",
       "      <td>0.00</td>\n",
       "      <td>2</td>\n",
       "      <td>0</td>\n",
       "      <td>1</td>\n",
       "      <td>77326.78</td>\n",
       "      <td>0</td>\n",
       "    </tr>\n",
       "  </tbody>\n",
       "</table>\n",
       "</div>"
      ],
      "text/plain": [
       "      RowNumber  CustomerId   Surname  CreditScore Geography  Gender  Age  \\\n",
       "650         651    15730447  Anderson          629    France  Female   49   \n",
       "2624       2625    15788946   Anthony          605     Spain  Female   29   \n",
       "7934       7935    15803886    Barber          629     Spain    Male   31   \n",
       "2117       2118    15652540   Garnsey          683    France    Male   31   \n",
       "\n",
       "      Tenure    Balance  NumOfProducts  HasCrCard  IsActiveMember  \\\n",
       "650        4       0.00              2          1               1   \n",
       "2624       3  116805.82              1          0               0   \n",
       "7934       6  132876.55              1          1               1   \n",
       "2117       2       0.00              2          0               1   \n",
       "\n",
       "      EstimatedSalary  Exited  \n",
       "650         196335.48       0  \n",
       "2624          4092.75       0  \n",
       "7934        130862.11       0  \n",
       "2117         77326.78       0  "
      ]
     },
     "execution_count": 5,
     "metadata": {},
     "output_type": "execute_result"
    }
   ],
   "source": [
    "df = pd.read_csv(\"Dataset/Churn_Modelling.csv\")\n",
    "df.sample(4)"
   ]
  },
  {
   "cell_type": "code",
   "execution_count": 6,
   "id": "3868afb6",
   "metadata": {},
   "outputs": [
    {
     "name": "stdout",
     "output_type": "stream",
     "text": [
      "<class 'pandas.core.frame.DataFrame'>\n",
      "RangeIndex: 10000 entries, 0 to 9999\n",
      "Data columns (total 14 columns):\n",
      " #   Column           Non-Null Count  Dtype  \n",
      "---  ------           --------------  -----  \n",
      " 0   RowNumber        10000 non-null  int64  \n",
      " 1   CustomerId       10000 non-null  int64  \n",
      " 2   Surname          10000 non-null  object \n",
      " 3   CreditScore      10000 non-null  int64  \n",
      " 4   Geography        10000 non-null  object \n",
      " 5   Gender           10000 non-null  object \n",
      " 6   Age              10000 non-null  int64  \n",
      " 7   Tenure           10000 non-null  int64  \n",
      " 8   Balance          10000 non-null  float64\n",
      " 9   NumOfProducts    10000 non-null  int64  \n",
      " 10  HasCrCard        10000 non-null  int64  \n",
      " 11  IsActiveMember   10000 non-null  int64  \n",
      " 12  EstimatedSalary  10000 non-null  float64\n",
      " 13  Exited           10000 non-null  int64  \n",
      "dtypes: float64(2), int64(9), object(3)\n",
      "memory usage: 1.1+ MB\n"
     ]
    }
   ],
   "source": [
    "df.info()"
   ]
  },
  {
   "cell_type": "code",
   "execution_count": 7,
   "id": "a9d43999",
   "metadata": {},
   "outputs": [
    {
     "data": {
      "text/plain": [
       "0"
      ]
     },
     "execution_count": 7,
     "metadata": {},
     "output_type": "execute_result"
    }
   ],
   "source": [
    "df.duplicated().sum()"
   ]
  },
  {
   "cell_type": "code",
   "execution_count": 8,
   "id": "eca69150",
   "metadata": {},
   "outputs": [
    {
     "data": {
      "text/html": [
       "<div>\n",
       "<style scoped>\n",
       "    .dataframe tbody tr th:only-of-type {\n",
       "        vertical-align: middle;\n",
       "    }\n",
       "\n",
       "    .dataframe tbody tr th {\n",
       "        vertical-align: top;\n",
       "    }\n",
       "\n",
       "    .dataframe thead th {\n",
       "        text-align: right;\n",
       "    }\n",
       "</style>\n",
       "<table border=\"1\" class=\"dataframe\">\n",
       "  <thead>\n",
       "    <tr style=\"text-align: right;\">\n",
       "      <th></th>\n",
       "      <th>CreditScore</th>\n",
       "      <th>Geography</th>\n",
       "      <th>Gender</th>\n",
       "      <th>Age</th>\n",
       "      <th>Tenure</th>\n",
       "      <th>Balance</th>\n",
       "      <th>NumOfProducts</th>\n",
       "      <th>HasCrCard</th>\n",
       "      <th>IsActiveMember</th>\n",
       "      <th>EstimatedSalary</th>\n",
       "      <th>Exited</th>\n",
       "    </tr>\n",
       "  </thead>\n",
       "  <tbody>\n",
       "    <tr>\n",
       "      <th>4891</th>\n",
       "      <td>765</td>\n",
       "      <td>Germany</td>\n",
       "      <td>Male</td>\n",
       "      <td>34</td>\n",
       "      <td>5</td>\n",
       "      <td>86055.17</td>\n",
       "      <td>2</td>\n",
       "      <td>1</td>\n",
       "      <td>1</td>\n",
       "      <td>104220.50</td>\n",
       "      <td>0</td>\n",
       "    </tr>\n",
       "    <tr>\n",
       "      <th>2599</th>\n",
       "      <td>550</td>\n",
       "      <td>Spain</td>\n",
       "      <td>Male</td>\n",
       "      <td>62</td>\n",
       "      <td>7</td>\n",
       "      <td>80927.56</td>\n",
       "      <td>1</td>\n",
       "      <td>0</td>\n",
       "      <td>1</td>\n",
       "      <td>64490.67</td>\n",
       "      <td>0</td>\n",
       "    </tr>\n",
       "  </tbody>\n",
       "</table>\n",
       "</div>"
      ],
      "text/plain": [
       "      CreditScore Geography Gender  Age  Tenure   Balance  NumOfProducts  \\\n",
       "4891          765   Germany   Male   34       5  86055.17              2   \n",
       "2599          550     Spain   Male   62       7  80927.56              1   \n",
       "\n",
       "      HasCrCard  IsActiveMember  EstimatedSalary  Exited  \n",
       "4891          1               1        104220.50       0  \n",
       "2599          0               1         64490.67       0  "
      ]
     },
     "execution_count": 8,
     "metadata": {},
     "output_type": "execute_result"
    }
   ],
   "source": [
    "# Droping Top 3 as they are not reliable\n",
    "df.drop(columns=[\"RowNumber\", \"CustomerId\", \"Surname\"], inplace=True, axis=1)\n",
    "df.sample(2)"
   ]
  },
  {
   "cell_type": "code",
   "execution_count": 10,
   "id": "ef2d649c",
   "metadata": {},
   "outputs": [],
   "source": [
    "# transforming Categorical data\n",
    "df = pd.get_dummies(df, columns=[\"Geography\", \"Gender\"], drop_first=True)"
   ]
  },
  {
   "cell_type": "code",
   "execution_count": 11,
   "id": "cfdc5c3e",
   "metadata": {},
   "outputs": [
    {
     "data": {
      "text/plain": [
       "<AxesSubplot:>"
      ]
     },
     "execution_count": 11,
     "metadata": {},
     "output_type": "execute_result"
    },
    {
     "data": {
      "image/png": "[encoded data removed]",
      "text/plain": [
       "<Figure size 720x720 with 2 Axes>"
      ]
     },
     "metadata": {
      "needs_background": "light"
     },
     "output_type": "display_data"
    }
   ],
   "source": [
    "# Finding correlation between dependendent and non - dependent rows\n",
    "import seaborn as sns\n",
    "\n",
    "plt.figure(figsize=(10,10))\n",
    "sns.heatmap(df.corr(method=\"spearman\"), annot = True)"
   ]
  },
  {
   "cell_type": "code",
   "execution_count": 12,
   "id": "ae3a9809",
   "metadata": {},
   "outputs": [
    {
     "data": {
      "text/plain": [
       "[21.318076351306896,\n",
       " 13.695781572637243,\n",
       " 3.8742453441205087,\n",
       " 3.1877215890090427,\n",
       " 7.835277696567546,\n",
       " 3.289971250772043,\n",
       " 2.151552807806474,\n",
       " 3.8873346648399183,\n",
       " 1.4779604934755468,\n",
       " 1.8164517940213727,\n",
       " 1.4862568078789002,\n",
       " 2.192417876399789]"
      ]
     },
     "execution_count": 12,
     "metadata": {},
     "output_type": "execute_result"
    }
   ],
   "source": [
    "from statsmodels.stats.outliers_influence import variance_inflation_factor\n",
    "[variance_inflation_factor(df.values, i) for i in range(len(df.columns))]"
   ]
  },
  {
   "cell_type": "code",
   "execution_count": 14,
   "id": "58c63b8c",
   "metadata": {},
   "outputs": [],
   "source": [
    "from sklearn.preprocessing import StandardScaler\n",
    "st = StandardScaler()"
   ]
  },
  {
   "cell_type": "code",
   "execution_count": 15,
   "id": "eccffb71",
   "metadata": {},
   "outputs": [
    {
     "data": {
      "text/plain": [
       "Index(['CreditScore', 'Age', 'Tenure', 'Balance', 'NumOfProducts', 'HasCrCard',\n",
       "       'IsActiveMember', 'EstimatedSalary', 'Exited', 'Geography_Germany',\n",
       "       'Geography_Spain', 'Gender_Male'],\n",
       "      dtype='object')"
      ]
     },
     "execution_count": 15,
     "metadata": {},
     "output_type": "execute_result"
    }
   ],
   "source": [
    "df.columns"
   ]
  },
  {
   "cell_type": "code",
   "execution_count": 16,
   "id": "c39ecbed",
   "metadata": {},
   "outputs": [],
   "source": [
    "X = df.drop(\"Exited\", axis=1)\n",
    "y = df[\"Exited\"]"
   ]
  },
  {
   "cell_type": "code",
   "execution_count": 17,
   "id": "ab0a158e",
   "metadata": {},
   "outputs": [
    {
     "data": {
      "text/plain": [
       "((8000, 11), (2000, 11))"
      ]
     },
     "execution_count": 17,
     "metadata": {},
     "output_type": "execute_result"
    }
   ],
   "source": [
    "X_train,X_test,y_train,y_test = train_test_split(X, y , test_size=0.2, random_state=123)\n",
    "X_train.shape, X_test.shape"
   ]
  },
  {
   "cell_type": "code",
   "execution_count": 18,
   "id": "88d992b8",
   "metadata": {},
   "outputs": [],
   "source": [
    "X_train_transform = st.fit_transform(X_train)\n",
    "X_test_transforn = st.transform(X_test)"
   ]
  },
  {
   "cell_type": "markdown",
   "id": "4f9f2294",
   "metadata": {},
   "source": [
    "# Building Deeplearning model"
   ]
  },
  {
   "cell_type": "code",
   "execution_count": 19,
   "id": "3eb8fe94",
   "metadata": {},
   "outputs": [],
   "source": [
    "import tensorflow\n",
    "from tensorflow import keras\n",
    "from tensorflow.keras import Sequential\n",
    "from tensorflow.keras.layers import Dense"
   ]
  },
  {
   "cell_type": "code",
   "execution_count": 63,
   "id": "2335a753",
   "metadata": {},
   "outputs": [],
   "source": [
    "# creating ANN Model\n",
    "model = Sequential()\n",
    "\n",
    "# adding Dense Layer\n",
    "model.add(Dense(14, activation='relu', input_dim = 11))\n",
    "model.add(Dense(8, activation='relu'))\n",
    "model.add(Dense(3, activation='relu'))\n",
    "model.add(Dense(1, activation='sigmoid'))\n"
   ]
  },
  {
   "cell_type": "code",
   "execution_count": 64,
   "id": "e2c4bad8",
   "metadata": {},
   "outputs": [
    {
     "name": "stdout",
     "output_type": "stream",
     "text": [
      "Model: \"sequential_3\"\n",
      "_________________________________________________________________\n",
      " Layer (type)                Output Shape              Param #   \n",
      "=================================================================\n",
      " dense_7 (Dense)             (None, 14)                168       \n",
      "                                                                 \n",
      " dense_8 (Dense)             (None, 8)                 120       \n",
      "                                                                 \n",
      " dense_9 (Dense)             (None, 3)                 27        \n",
      "                                                                 \n",
      " dense_10 (Dense)            (None, 1)                 4         \n",
      "                                                                 \n",
      "=================================================================\n",
      "Total params: 319\n",
      "Trainable params: 319\n",
      "Non-trainable params: 0\n",
      "_________________________________________________________________\n"
     ]
    }
   ],
   "source": [
    "model.summary()"
   ]
  },
  {
   "cell_type": "code",
   "execution_count": 65,
   "id": "112086d3",
   "metadata": {},
   "outputs": [],
   "source": [
    "model.compile(loss=keras.losses.BinaryCrossentropy(), optimizer='Adam', metrics=[\"accuracy\"])"
   ]
  },
  {
   "cell_type": "code",
   "execution_count": 66,
   "id": "afa5824f",
   "metadata": {},
   "outputs": [
    {
     "name": "stdout",
     "output_type": "stream",
     "text": [
      "Epoch 1/80\n",
      "250/250 [==============================] - 2s 3ms/step - loss: 0.5965 - accuracy: 0.7592\n",
      "Epoch 2/80\n",
      "250/250 [==============================] - 1s 2ms/step - loss: 0.4497 - accuracy: 0.8066\n",
      "Epoch 3/80\n",
      "250/250 [==============================] - 1s 2ms/step - loss: 0.4240 - accuracy: 0.8213\n",
      "Epoch 4/80\n",
      "250/250 [==============================] - 1s 2ms/step - loss: 0.4165 - accuracy: 0.8254\n",
      "Epoch 5/80\n",
      "250/250 [==============================] - 1s 2ms/step - loss: 0.4118 - accuracy: 0.8285\n",
      "Epoch 6/80\n",
      "250/250 [==============================] - 1s 2ms/step - loss: 0.4076 - accuracy: 0.8321\n",
      "Epoch 7/80\n",
      "250/250 [==============================] - 1s 2ms/step - loss: 0.4017 - accuracy: 0.8350\n",
      "Epoch 8/80\n",
      "250/250 [==============================] - 1s 2ms/step - loss: 0.3933 - accuracy: 0.8394\n",
      "Epoch 9/80\n",
      "250/250 [==============================] - 1s 2ms/step - loss: 0.3803 - accuracy: 0.8445\n",
      "Epoch 10/80\n",
      "250/250 [==============================] - 1s 2ms/step - loss: 0.3671 - accuracy: 0.8510\n",
      "Epoch 11/80\n",
      "250/250 [==============================] - 1s 2ms/step - loss: 0.3578 - accuracy: 0.8537\n",
      "Epoch 12/80\n",
      "250/250 [==============================] - 1s 2ms/step - loss: 0.3522 - accuracy: 0.8551\n",
      "Epoch 13/80\n",
      "250/250 [==============================] - 1s 2ms/step - loss: 0.3484 - accuracy: 0.8586\n",
      "Epoch 14/80\n",
      "250/250 [==============================] - 1s 2ms/step - loss: 0.3474 - accuracy: 0.8590\n",
      "Epoch 15/80\n",
      "250/250 [==============================] - 1s 2ms/step - loss: 0.3447 - accuracy: 0.8609\n",
      "Epoch 16/80\n",
      "250/250 [==============================] - 1s 2ms/step - loss: 0.3433 - accuracy: 0.8610\n",
      "Epoch 17/80\n",
      "250/250 [==============================] - 1s 2ms/step - loss: 0.3427 - accuracy: 0.8612\n",
      "Epoch 18/80\n",
      "250/250 [==============================] - 1s 2ms/step - loss: 0.3409 - accuracy: 0.8619\n",
      "Epoch 19/80\n",
      "250/250 [==============================] - 1s 2ms/step - loss: 0.3406 - accuracy: 0.8620\n",
      "Epoch 20/80\n",
      "250/250 [==============================] - 1s 2ms/step - loss: 0.3385 - accuracy: 0.8627\n",
      "Epoch 21/80\n",
      "250/250 [==============================] - 1s 2ms/step - loss: 0.3385 - accuracy: 0.8630\n",
      "Epoch 22/80\n",
      "250/250 [==============================] - 1s 2ms/step - loss: 0.3369 - accuracy: 0.8645\n",
      "Epoch 23/80\n",
      "250/250 [==============================] - 1s 2ms/step - loss: 0.3364 - accuracy: 0.8627\n",
      "Epoch 24/80\n",
      "250/250 [==============================] - 1s 2ms/step - loss: 0.3355 - accuracy: 0.8649\n",
      "Epoch 25/80\n",
      "250/250 [==============================] - 1s 2ms/step - loss: 0.3347 - accuracy: 0.8643\n",
      "Epoch 26/80\n",
      "250/250 [==============================] - 1s 2ms/step - loss: 0.3343 - accuracy: 0.8658\n",
      "Epoch 27/80\n",
      "250/250 [==============================] - 1s 2ms/step - loss: 0.3345 - accuracy: 0.8659\n",
      "Epoch 28/80\n",
      "250/250 [==============================] - 1s 2ms/step - loss: 0.3328 - accuracy: 0.8665\n",
      "Epoch 29/80\n",
      "250/250 [==============================] - 1s 2ms/step - loss: 0.3326 - accuracy: 0.8660\n",
      "Epoch 30/80\n",
      "250/250 [==============================] - 1s 2ms/step - loss: 0.3327 - accuracy: 0.8668\n",
      "Epoch 31/80\n",
      "250/250 [==============================] - 1s 2ms/step - loss: 0.3321 - accuracy: 0.8673\n",
      "Epoch 32/80\n",
      "250/250 [==============================] - 1s 2ms/step - loss: 0.3311 - accuracy: 0.8690\n",
      "Epoch 33/80\n",
      "250/250 [==============================] - 1s 2ms/step - loss: 0.3315 - accuracy: 0.8668\n",
      "Epoch 34/80\n",
      "250/250 [==============================] - 1s 2ms/step - loss: 0.3307 - accuracy: 0.8662\n",
      "Epoch 35/80\n",
      "250/250 [==============================] - 1s 2ms/step - loss: 0.3306 - accuracy: 0.8666\n",
      "Epoch 36/80\n",
      "250/250 [==============================] - 1s 2ms/step - loss: 0.3296 - accuracy: 0.8670\n",
      "Epoch 37/80\n",
      "250/250 [==============================] - 1s 2ms/step - loss: 0.3296 - accuracy: 0.8670\n",
      "Epoch 38/80\n",
      "250/250 [==============================] - 1s 2ms/step - loss: 0.3292 - accuracy: 0.8677\n",
      "Epoch 39/80\n",
      "250/250 [==============================] - 1s 2ms/step - loss: 0.3294 - accuracy: 0.8675\n",
      "Epoch 40/80\n",
      "250/250 [==============================] - 1s 2ms/step - loss: 0.3292 - accuracy: 0.8686\n",
      "Epoch 41/80\n",
      "250/250 [==============================] - 1s 2ms/step - loss: 0.3290 - accuracy: 0.8665\n",
      "Epoch 42/80\n",
      "250/250 [==============================] - 1s 2ms/step - loss: 0.3278 - accuracy: 0.8683\n",
      "Epoch 43/80\n",
      "250/250 [==============================] - 1s 3ms/step - loss: 0.3270 - accuracy: 0.8670\n",
      "Epoch 44/80\n",
      "250/250 [==============================] - 1s 2ms/step - loss: 0.3281 - accuracy: 0.8686\n",
      "Epoch 45/80\n",
      "250/250 [==============================] - 1s 3ms/step - loss: 0.3275 - accuracy: 0.8680\n",
      "Epoch 46/80\n",
      "250/250 [==============================] - 1s 2ms/step - loss: 0.3273 - accuracy: 0.8691\n",
      "Epoch 47/80\n",
      "250/250 [==============================] - 1s 3ms/step - loss: 0.3267 - accuracy: 0.8683\n",
      "Epoch 48/80\n",
      "250/250 [==============================] - 1s 2ms/step - loss: 0.3268 - accuracy: 0.8687\n",
      "Epoch 49/80\n",
      "250/250 [==============================] - 1s 2ms/step - loss: 0.3263 - accuracy: 0.8680\n",
      "Epoch 50/80\n",
      "250/250 [==============================] - 1s 2ms/step - loss: 0.3258 - accuracy: 0.8676\n",
      "Epoch 51/80\n",
      "250/250 [==============================] - 1s 2ms/step - loss: 0.3256 - accuracy: 0.8684\n",
      "Epoch 52/80\n",
      "250/250 [==============================] - 1s 2ms/step - loss: 0.3259 - accuracy: 0.8698\n",
      "Epoch 53/80\n",
      "250/250 [==============================] - 1s 2ms/step - loss: 0.3255 - accuracy: 0.8684\n",
      "Epoch 54/80\n",
      "250/250 [==============================] - 1s 2ms/step - loss: 0.3251 - accuracy: 0.8695\n",
      "Epoch 55/80\n",
      "250/250 [==============================] - 1s 2ms/step - loss: 0.3246 - accuracy: 0.8698\n",
      "Epoch 56/80\n",
      "250/250 [==============================] - 1s 2ms/step - loss: 0.3248 - accuracy: 0.8689\n",
      "Epoch 57/80\n",
      "250/250 [==============================] - 1s 2ms/step - loss: 0.3246 - accuracy: 0.8690\n",
      "Epoch 58/80\n",
      "250/250 [==============================] - 1s 2ms/step - loss: 0.3245 - accuracy: 0.8708\n",
      "Epoch 59/80\n",
      "250/250 [==============================] - 1s 2ms/step - loss: 0.3245 - accuracy: 0.8699\n",
      "Epoch 60/80\n",
      "250/250 [==============================] - 1s 2ms/step - loss: 0.3247 - accuracy: 0.8685\n",
      "Epoch 61/80\n",
      "250/250 [==============================] - 1s 2ms/step - loss: 0.3245 - accuracy: 0.8670\n",
      "Epoch 62/80\n",
      "250/250 [==============================] - 1s 2ms/step - loss: 0.3241 - accuracy: 0.8708\n",
      "Epoch 63/80\n",
      "250/250 [==============================] - 1s 2ms/step - loss: 0.3230 - accuracy: 0.8698\n",
      "Epoch 64/80\n",
      "250/250 [==============================] - 1s 2ms/step - loss: 0.3235 - accuracy: 0.8719\n",
      "Epoch 65/80\n",
      "250/250 [==============================] - 1s 2ms/step - loss: 0.3235 - accuracy: 0.8705\n",
      "Epoch 66/80\n",
      "250/250 [==============================] - 1s 2ms/step - loss: 0.3237 - accuracy: 0.8712\n",
      "Epoch 67/80\n",
      "250/250 [==============================] - 1s 2ms/step - loss: 0.3231 - accuracy: 0.8694\n",
      "Epoch 68/80\n",
      "250/250 [==============================] - 1s 2ms/step - loss: 0.3226 - accuracy: 0.8696\n",
      "Epoch 69/80\n",
      "250/250 [==============================] - 1s 2ms/step - loss: 0.3218 - accuracy: 0.8692\n",
      "Epoch 70/80\n",
      "250/250 [==============================] - 1s 2ms/step - loss: 0.3226 - accuracy: 0.8698\n",
      "Epoch 71/80\n",
      "250/250 [==============================] - 1s 2ms/step - loss: 0.3221 - accuracy: 0.8684\n",
      "Epoch 72/80\n",
      "250/250 [==============================] - 1s 2ms/step - loss: 0.3219 - accuracy: 0.8704\n",
      "Epoch 73/80\n",
      "250/250 [==============================] - 1s 2ms/step - loss: 0.3224 - accuracy: 0.8701\n",
      "Epoch 74/80\n",
      "250/250 [==============================] - 1s 2ms/step - loss: 0.3225 - accuracy: 0.8699\n",
      "Epoch 75/80\n",
      "250/250 [==============================] - 1s 2ms/step - loss: 0.3217 - accuracy: 0.8689\n",
      "Epoch 76/80\n",
      "250/250 [==============================] - 1s 2ms/step - loss: 0.3224 - accuracy: 0.8701\n",
      "Epoch 77/80\n",
      "250/250 [==============================] - 1s 2ms/step - loss: 0.3221 - accuracy: 0.8717\n",
      "Epoch 78/80\n",
      "250/250 [==============================] - 1s 2ms/step - loss: 0.3218 - accuracy: 0.8717\n",
      "Epoch 79/80\n",
      "250/250 [==============================] - 1s 2ms/step - loss: 0.3215 - accuracy: 0.8695\n",
      "Epoch 80/80\n",
      "250/250 [==============================] - 1s 2ms/step - loss: 0.3213 - accuracy: 0.8712\n"
     ]
    }
   ],
   "source": [
    "history = model.fit(X_train_transform, y_train, epochs=80)"
   ]
  },
  {
   "cell_type": "code",
   "execution_count": 49,
   "id": "4bbdf1e9",
   "metadata": {},
   "outputs": [
    {
     "data": {
      "text/plain": [
       "[array([[-0.4498266 ],\n",
       "        [-1.1196043 ],\n",
       "        [ 1.2937641 ],\n",
       "        [-0.7680694 ],\n",
       "        [ 0.7312701 ],\n",
       "        [ 0.58191043],\n",
       "        [ 1.5650026 ],\n",
       "        [ 1.3656121 ]], dtype=float32),\n",
       " array([-0.25350502], dtype=float32)]"
      ]
     },
     "execution_count": 49,
     "metadata": {},
     "output_type": "execute_result"
    }
   ],
   "source": [
    "model.layers[2].get_weights()"
   ]
  },
  {
   "cell_type": "code",
   "execution_count": 69,
   "id": "1f5cd735",
   "metadata": {},
   "outputs": [
    {
     "name": "stdout",
     "output_type": "stream",
     "text": [
      "63/63 [==============================] - 0s 2ms/step\n"
     ]
    }
   ],
   "source": [
    "# Prediction\n",
    "y_pred = np.where(0.5>model.predict(X_test_transforn),0,1)"
   ]
  },
  {
   "cell_type": "code",
   "execution_count": 70,
   "id": "f41fcab5",
   "metadata": {
    "scrolled": false
   },
   "outputs": [
    {
     "data": {
      "text/plain": [
       "0.853"
      ]
     },
     "execution_count": 70,
     "metadata": {},
     "output_type": "execute_result"
    }
   ],
   "source": [
    "accuracy_score(y_test, y_pred)"
   ]
  },
  {
   "cell_type": "code",
   "execution_count": 68,
   "id": "25da4296",
   "metadata": {},
   "outputs": [
    {
     "data": {
      "text/plain": [
       "[<matplotlib.lines.Line2D at 0x23c3e07afd0>]"
      ]
     },
     "execution_count": 68,
     "metadata": {},
     "output_type": "execute_result"
    },
    {
     "data": {
      "image/png": "[encoded data removed]",
      "text/plain": [
       "<Figure size 432x288 with 1 Axes>"
      ]
     },
     "metadata": {
      "needs_background": "light"
     },
     "output_type": "display_data"
    }
   ],
   "source": [
    "plt.plot(history.history[\"loss\"])\n",
    "plt.plot(history.history[\"accuracy\"])"
   ]
  },
  {
   "cell_type": "code",
   "execution_count": null,
   "id": "0bb53785",
   "metadata": {},
   "outputs": [],
   "source": []
  }
 ],
 "metadata": {
  "kernelspec": {
   "display_name": "Python 3 (ipykernel)",
   "language": "python",
   "name": "python3"
  },
  "language_info": {
   "codemirror_mode": {
    "name": "ipython",
    "version": 3
   },
   "file_extension": ".py",
   "mimetype": "text/x-python",
   "name": "python",
   "nbconvert_exporter": "python",
   "pygments_lexer": "ipython3",
   "version": "3.9.7"
  }
 },
 "nbformat": 4,
 "nbformat_minor": 5
}
