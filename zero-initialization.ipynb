{
 "cells": [
  {
   "cell_type": "code",
   "execution_count": 2,
   "id": "0050b91f",
   "metadata": {},
   "outputs": [],
   "source": [
    "import numpy as np\n",
    "import matplotlib.pyplot as plt\n",
    "\n",
    "from sklearn.datasets import make_moons\n",
    "\n",
    "import tensorflow\n",
    "from tensorflow import keras\n",
    "from keras.layers import Dense\n",
    "from keras.models import Sequential"
   ]
  },
  {
   "cell_type": "code",
   "execution_count": 13,
   "id": "b7f90bf8",
   "metadata": {},
   "outputs": [],
   "source": [
    "X,y = make_moons(n_samples=100, noise=0.5, random_state=123)"
   ]
  },
  {
   "cell_type": "code",
   "execution_count": 4,
   "id": "f9162d30",
   "metadata": {},
   "outputs": [],
   "source": [
    "plt.rcParams[\"figure.figsize\"]=(10,8)"
   ]
  },
  {
   "cell_type": "code",
   "execution_count": 14,
   "id": "c0f291d7",
   "metadata": {
    "scrolled": true
   },
   "outputs": [
    {
     "data": {
      "text/plain": [
       "<matplotlib.collections.PathCollection at 0x25d598652e0>"
      ]
     },
     "execution_count": 14,
     "metadata": {},
     "output_type": "execute_result"
    },
    {
     "data": {
      "image/png": "[encoded data removed]",
      "text/plain": [
       "<Figure size 720x576 with 1 Axes>"
      ]
     },
     "metadata": {
      "needs_background": "light"
     },
     "output_type": "display_data"
    }
   ],
   "source": [
    "plt.scatter(X[:,0], X[:,1], c=y)"
   ]
  },
  {
   "cell_type": "markdown",
   "id": "bfb119eb",
   "metadata": {},
   "source": [
    "## Relu"
   ]
  },
  {
   "cell_type": "code",
   "execution_count": 54,
   "id": "6f87ad51",
   "metadata": {},
   "outputs": [
    {
     "name": "stdout",
     "output_type": "stream",
     "text": [
      "Model: \"sequential_4\"\n",
      "_________________________________________________________________\n",
      " Layer (type)                Output Shape              Param #   \n",
      "=================================================================\n",
      " dense_12 (Dense)            (None, 4)                 12        \n",
      "                                                                 \n",
      " dense_13 (Dense)            (None, 2)                 10        \n",
      "                                                                 \n",
      " dense_14 (Dense)            (None, 1)                 3         \n",
      "                                                                 \n",
      "=================================================================\n",
      "Total params: 25\n",
      "Trainable params: 25\n",
      "Non-trainable params: 0\n",
      "_________________________________________________________________\n"
     ]
    }
   ],
   "source": [
    "# Creating Model\n",
    "\n",
    "model = Sequential()\n",
    "\n",
    "model.add(Dense(4, input_dim=2, activation=\"relu\"))\n",
    "model.add(Dense(2, activation=\"relu\"))\n",
    "model.add(Dense(1, activation=\"sigmoid\"))\n",
    "\n",
    "model.summary()"
   ]
  },
  {
   "cell_type": "code",
   "execution_count": 55,
   "id": "b4010a45",
   "metadata": {},
   "outputs": [
    {
     "data": {
      "text/plain": [
       "[array([[ 0.90938187,  0.23043609,  0.04598927, -0.81215286],\n",
       "        [-0.6656027 ,  0.36789966,  0.30662036,  0.3616047 ]],\n",
       "       dtype=float32),\n",
       " array([0., 0., 0., 0.], dtype=float32),\n",
       " array([[-0.35996318, -0.35975385],\n",
       "        [ 0.9301419 , -0.1672697 ],\n",
       "        [-0.9432843 ,  0.06288552],\n",
       "        [-0.9261818 ,  0.7190962 ]], dtype=float32),\n",
       " array([0., 0.], dtype=float32),\n",
       " array([[ 0.65917003],\n",
       "        [-0.82752943]], dtype=float32),\n",
       " array([0.], dtype=float32)]"
      ]
     },
     "execution_count": 55,
     "metadata": {},
     "output_type": "execute_result"
    }
   ],
   "source": [
    "model.get_weights()"
   ]
  },
  {
   "cell_type": "code",
   "execution_count": 56,
   "id": "7af24520",
   "metadata": {},
   "outputs": [],
   "source": [
    "# Saving weights\n",
    "initial_weights = model.get_weights()"
   ]
  },
  {
   "cell_type": "code",
   "execution_count": 57,
   "id": "fdf747cf",
   "metadata": {},
   "outputs": [
    {
     "data": {
      "text/plain": [
       "6"
      ]
     },
     "execution_count": 57,
     "metadata": {},
     "output_type": "execute_result"
    }
   ],
   "source": [
    "len(initial_weights)"
   ]
  },
  {
   "cell_type": "code",
   "execution_count": 58,
   "id": "f654910f",
   "metadata": {},
   "outputs": [],
   "source": [
    "# Giving Zero weights to model\n",
    "\n",
    "initial_weights[0] = np.zeros(model.get_weights()[0].shape)\n",
    "initial_weights[1] = np.zeros(model.get_weights()[1].shape)\n",
    "initial_weights[2] = np.zeros(model.get_weights()[2].shape)\n",
    "initial_weights[3] = np.zeros(model.get_weights()[3].shape)\n",
    "initial_weights[4] = np.zeros(model.get_weights()[4].shape)\n",
    "initial_weights[5] = np.zeros(model.get_weights()[5].shape)"
   ]
  },
  {
   "cell_type": "code",
   "execution_count": 59,
   "id": "e01f398f",
   "metadata": {},
   "outputs": [],
   "source": [
    "model.compile(loss=\"binary_crossentropy\", optimizer='adam', metrics=[\"accuracy\"])"
   ]
  },
  {
   "cell_type": "code",
   "execution_count": 60,
   "id": "de79dc5b",
   "metadata": {},
   "outputs": [
    {
     "data": {
      "text/plain": [
       "[array([[0., 0., 0., 0.],\n",
       "        [0., 0., 0., 0.]]),\n",
       " array([0., 0., 0., 0.]),\n",
       " array([[0., 0.],\n",
       "        [0., 0.],\n",
       "        [0., 0.],\n",
       "        [0., 0.]]),\n",
       " array([0., 0.]),\n",
       " array([[0.],\n",
       "        [0.]]),\n",
       " array([0.])]"
      ]
     },
     "execution_count": 60,
     "metadata": {},
     "output_type": "execute_result"
    }
   ],
   "source": [
    "initial_weights"
   ]
  },
  {
   "cell_type": "code",
   "execution_count": 61,
   "id": "5f6548fd",
   "metadata": {},
   "outputs": [],
   "source": [
    "# setting Zero weights\n",
    "\n",
    "model.set_weights(initial_weights)"
   ]
  },
  {
   "cell_type": "code",
   "execution_count": 62,
   "id": "71815e18",
   "metadata": {},
   "outputs": [
    {
     "name": "stdout",
     "output_type": "stream",
     "text": [
      "Epoch 1/100\n",
      "3/3 [==============================] - 1s 119ms/step - loss: 0.6932 - accuracy: 0.4000 - val_loss: 0.6931 - val_accuracy: 0.6000\n",
      "Epoch 2/100\n",
      "3/3 [==============================] - 0s 26ms/step - loss: 0.6932 - accuracy: 0.4000 - val_loss: 0.6932 - val_accuracy: 0.4000\n",
      "Epoch 3/100\n",
      "3/3 [==============================] - 0s 20ms/step - loss: 0.6931 - accuracy: 0.5250 - val_loss: 0.6932 - val_accuracy: 0.4000\n",
      "Epoch 4/100\n",
      "3/3 [==============================] - 0s 20ms/step - loss: 0.6931 - accuracy: 0.5250 - val_loss: 0.6933 - val_accuracy: 0.4000\n",
      "Epoch 5/100\n",
      "3/3 [==============================] - 0s 20ms/step - loss: 0.6931 - accuracy: 0.5250 - val_loss: 0.6934 - val_accuracy: 0.4000\n",
      "Epoch 6/100\n",
      "3/3 [==============================] - 0s 20ms/step - loss: 0.6931 - accuracy: 0.5250 - val_loss: 0.6935 - val_accuracy: 0.4000\n",
      "Epoch 7/100\n",
      "3/3 [==============================] - 0s 24ms/step - loss: 0.6931 - accuracy: 0.5250 - val_loss: 0.6935 - val_accuracy: 0.4000\n",
      "Epoch 8/100\n",
      "3/3 [==============================] - 0s 20ms/step - loss: 0.6931 - accuracy: 0.5250 - val_loss: 0.6936 - val_accuracy: 0.4000\n",
      "Epoch 9/100\n",
      "3/3 [==============================] - 0s 20ms/step - loss: 0.6930 - accuracy: 0.5250 - val_loss: 0.6936 - val_accuracy: 0.4000\n",
      "Epoch 10/100\n",
      "3/3 [==============================] - 0s 21ms/step - loss: 0.6930 - accuracy: 0.5250 - val_loss: 0.6937 - val_accuracy: 0.4000\n",
      "Epoch 11/100\n",
      "3/3 [==============================] - 0s 21ms/step - loss: 0.6930 - accuracy: 0.5250 - val_loss: 0.6937 - val_accuracy: 0.4000\n",
      "Epoch 12/100\n",
      "3/3 [==============================] - 0s 25ms/step - loss: 0.6930 - accuracy: 0.5250 - val_loss: 0.6938 - val_accuracy: 0.4000\n",
      "Epoch 13/100\n",
      "3/3 [==============================] - 0s 24ms/step - loss: 0.6930 - accuracy: 0.5250 - val_loss: 0.6938 - val_accuracy: 0.4000\n",
      "Epoch 14/100\n",
      "3/3 [==============================] - 0s 24ms/step - loss: 0.6930 - accuracy: 0.5250 - val_loss: 0.6939 - val_accuracy: 0.4000\n",
      "Epoch 15/100\n",
      "3/3 [==============================] - 0s 24ms/step - loss: 0.6930 - accuracy: 0.5250 - val_loss: 0.6940 - val_accuracy: 0.4000\n",
      "Epoch 16/100\n",
      "3/3 [==============================] - 0s 24ms/step - loss: 0.6929 - accuracy: 0.5250 - val_loss: 0.6941 - val_accuracy: 0.4000\n",
      "Epoch 17/100\n",
      "3/3 [==============================] - 0s 28ms/step - loss: 0.6929 - accuracy: 0.5250 - val_loss: 0.6942 - val_accuracy: 0.4000\n",
      "Epoch 18/100\n",
      "3/3 [==============================] - 0s 24ms/step - loss: 0.6929 - accuracy: 0.5250 - val_loss: 0.6943 - val_accuracy: 0.4000\n",
      "Epoch 19/100\n",
      "3/3 [==============================] - 0s 20ms/step - loss: 0.6929 - accuracy: 0.5250 - val_loss: 0.6943 - val_accuracy: 0.4000\n",
      "Epoch 20/100\n",
      "3/3 [==============================] - 0s 20ms/step - loss: 0.6929 - accuracy: 0.5250 - val_loss: 0.6944 - val_accuracy: 0.4000\n",
      "Epoch 21/100\n",
      "3/3 [==============================] - 0s 20ms/step - loss: 0.6929 - accuracy: 0.5250 - val_loss: 0.6945 - val_accuracy: 0.4000\n",
      "Epoch 22/100\n",
      "3/3 [==============================] - 0s 24ms/step - loss: 0.6928 - accuracy: 0.5250 - val_loss: 0.6946 - val_accuracy: 0.4000\n",
      "Epoch 23/100\n",
      "3/3 [==============================] - 0s 20ms/step - loss: 0.6928 - accuracy: 0.5250 - val_loss: 0.6947 - val_accuracy: 0.4000\n",
      "Epoch 24/100\n",
      "3/3 [==============================] - 0s 20ms/step - loss: 0.6928 - accuracy: 0.5250 - val_loss: 0.6948 - val_accuracy: 0.4000\n",
      "Epoch 25/100\n",
      "3/3 [==============================] - 0s 20ms/step - loss: 0.6928 - accuracy: 0.5250 - val_loss: 0.6949 - val_accuracy: 0.4000\n",
      "Epoch 26/100\n",
      "3/3 [==============================] - 0s 24ms/step - loss: 0.6928 - accuracy: 0.5250 - val_loss: 0.6949 - val_accuracy: 0.4000\n",
      "Epoch 27/100\n",
      "3/3 [==============================] - 0s 20ms/step - loss: 0.6928 - accuracy: 0.5250 - val_loss: 0.6950 - val_accuracy: 0.4000\n",
      "Epoch 28/100\n",
      "3/3 [==============================] - 0s 24ms/step - loss: 0.6927 - accuracy: 0.5250 - val_loss: 0.6950 - val_accuracy: 0.4000\n",
      "Epoch 29/100\n",
      "3/3 [==============================] - 0s 24ms/step - loss: 0.6927 - accuracy: 0.5250 - val_loss: 0.6950 - val_accuracy: 0.4000\n",
      "Epoch 30/100\n",
      "3/3 [==============================] - 0s 24ms/step - loss: 0.6927 - accuracy: 0.5250 - val_loss: 0.6951 - val_accuracy: 0.4000\n",
      "Epoch 31/100\n",
      "3/3 [==============================] - 0s 24ms/step - loss: 0.6927 - accuracy: 0.5250 - val_loss: 0.6951 - val_accuracy: 0.4000\n",
      "Epoch 32/100\n",
      "3/3 [==============================] - 0s 24ms/step - loss: 0.6927 - accuracy: 0.5250 - val_loss: 0.6951 - val_accuracy: 0.4000\n",
      "Epoch 33/100\n",
      "3/3 [==============================] - 0s 20ms/step - loss: 0.6927 - accuracy: 0.5250 - val_loss: 0.6952 - val_accuracy: 0.4000\n",
      "Epoch 34/100\n",
      "3/3 [==============================] - 0s 20ms/step - loss: 0.6927 - accuracy: 0.5250 - val_loss: 0.6952 - val_accuracy: 0.4000\n",
      "Epoch 35/100\n",
      "3/3 [==============================] - 0s 24ms/step - loss: 0.6927 - accuracy: 0.5250 - val_loss: 0.6952 - val_accuracy: 0.4000\n",
      "Epoch 36/100\n",
      "3/3 [==============================] - 0s 28ms/step - loss: 0.6927 - accuracy: 0.5250 - val_loss: 0.6952 - val_accuracy: 0.4000\n",
      "Epoch 37/100\n",
      "3/3 [==============================] - 0s 24ms/step - loss: 0.6927 - accuracy: 0.5250 - val_loss: 0.6953 - val_accuracy: 0.4000\n",
      "Epoch 38/100\n",
      "3/3 [==============================] - 0s 24ms/step - loss: 0.6927 - accuracy: 0.5250 - val_loss: 0.6953 - val_accuracy: 0.4000\n",
      "Epoch 39/100\n",
      "3/3 [==============================] - 0s 24ms/step - loss: 0.6927 - accuracy: 0.5250 - val_loss: 0.6954 - val_accuracy: 0.4000\n",
      "Epoch 40/100\n",
      "3/3 [==============================] - 0s 24ms/step - loss: 0.6927 - accuracy: 0.5250 - val_loss: 0.6954 - val_accuracy: 0.4000\n",
      "Epoch 41/100\n",
      "3/3 [==============================] - 0s 28ms/step - loss: 0.6927 - accuracy: 0.5250 - val_loss: 0.6954 - val_accuracy: 0.4000\n",
      "Epoch 42/100\n",
      "3/3 [==============================] - 0s 24ms/step - loss: 0.6927 - accuracy: 0.5250 - val_loss: 0.6955 - val_accuracy: 0.4000\n",
      "Epoch 43/100\n",
      "3/3 [==============================] - 0s 24ms/step - loss: 0.6926 - accuracy: 0.5250 - val_loss: 0.6956 - val_accuracy: 0.4000\n",
      "Epoch 44/100\n",
      "3/3 [==============================] - 0s 28ms/step - loss: 0.6926 - accuracy: 0.5250 - val_loss: 0.6956 - val_accuracy: 0.4000\n",
      "Epoch 45/100\n",
      "3/3 [==============================] - 0s 20ms/step - loss: 0.6926 - accuracy: 0.5250 - val_loss: 0.6957 - val_accuracy: 0.4000\n",
      "Epoch 46/100\n",
      "3/3 [==============================] - 0s 20ms/step - loss: 0.6926 - accuracy: 0.5250 - val_loss: 0.6957 - val_accuracy: 0.4000\n",
      "Epoch 47/100\n",
      "3/3 [==============================] - 0s 20ms/step - loss: 0.6926 - accuracy: 0.5250 - val_loss: 0.6958 - val_accuracy: 0.4000\n",
      "Epoch 48/100\n",
      "3/3 [==============================] - 0s 20ms/step - loss: 0.6926 - accuracy: 0.5250 - val_loss: 0.6959 - val_accuracy: 0.4000\n",
      "Epoch 49/100\n",
      "3/3 [==============================] - 0s 24ms/step - loss: 0.6926 - accuracy: 0.5250 - val_loss: 0.6960 - val_accuracy: 0.4000\n",
      "Epoch 50/100\n",
      "3/3 [==============================] - 0s 44ms/step - loss: 0.6926 - accuracy: 0.5250 - val_loss: 0.6961 - val_accuracy: 0.4000\n",
      "Epoch 51/100\n",
      "3/3 [==============================] - 0s 24ms/step - loss: 0.6926 - accuracy: 0.5250 - val_loss: 0.6961 - val_accuracy: 0.4000\n",
      "Epoch 52/100\n",
      "3/3 [==============================] - 0s 28ms/step - loss: 0.6925 - accuracy: 0.5250 - val_loss: 0.6961 - val_accuracy: 0.4000\n",
      "Epoch 53/100\n",
      "3/3 [==============================] - 0s 20ms/step - loss: 0.6925 - accuracy: 0.5250 - val_loss: 0.6962 - val_accuracy: 0.4000\n",
      "Epoch 54/100\n",
      "3/3 [==============================] - 0s 28ms/step - loss: 0.6925 - accuracy: 0.5250 - val_loss: 0.6963 - val_accuracy: 0.4000\n",
      "Epoch 55/100\n",
      "3/3 [==============================] - 0s 20ms/step - loss: 0.6925 - accuracy: 0.5250 - val_loss: 0.6964 - val_accuracy: 0.4000\n",
      "Epoch 56/100\n",
      "3/3 [==============================] - 0s 17ms/step - loss: 0.6925 - accuracy: 0.5250 - val_loss: 0.6964 - val_accuracy: 0.4000\n",
      "Epoch 57/100\n",
      "3/3 [==============================] - 0s 28ms/step - loss: 0.6925 - accuracy: 0.5250 - val_loss: 0.6965 - val_accuracy: 0.4000\n",
      "Epoch 58/100\n",
      "3/3 [==============================] - 0s 24ms/step - loss: 0.6925 - accuracy: 0.5250 - val_loss: 0.6966 - val_accuracy: 0.4000\n",
      "Epoch 59/100\n"
     ]
    },
    {
     "name": "stdout",
     "output_type": "stream",
     "text": [
      "3/3 [==============================] - 0s 28ms/step - loss: 0.6925 - accuracy: 0.5250 - val_loss: 0.6967 - val_accuracy: 0.4000\n",
      "Epoch 60/100\n",
      "3/3 [==============================] - 0s 20ms/step - loss: 0.6924 - accuracy: 0.5250 - val_loss: 0.6968 - val_accuracy: 0.4000\n",
      "Epoch 61/100\n",
      "3/3 [==============================] - 0s 24ms/step - loss: 0.6924 - accuracy: 0.5250 - val_loss: 0.6969 - val_accuracy: 0.4000\n",
      "Epoch 62/100\n",
      "3/3 [==============================] - 0s 24ms/step - loss: 0.6924 - accuracy: 0.5250 - val_loss: 0.6969 - val_accuracy: 0.4000\n",
      "Epoch 63/100\n",
      "3/3 [==============================] - 0s 20ms/step - loss: 0.6924 - accuracy: 0.5250 - val_loss: 0.6970 - val_accuracy: 0.4000\n",
      "Epoch 64/100\n",
      "3/3 [==============================] - 0s 25ms/step - loss: 0.6924 - accuracy: 0.5250 - val_loss: 0.6971 - val_accuracy: 0.4000\n",
      "Epoch 65/100\n",
      "3/3 [==============================] - 0s 17ms/step - loss: 0.6924 - accuracy: 0.5250 - val_loss: 0.6971 - val_accuracy: 0.4000\n",
      "Epoch 66/100\n",
      "3/3 [==============================] - 0s 21ms/step - loss: 0.6924 - accuracy: 0.5250 - val_loss: 0.6972 - val_accuracy: 0.4000\n",
      "Epoch 67/100\n",
      "3/3 [==============================] - 0s 28ms/step - loss: 0.6924 - accuracy: 0.5250 - val_loss: 0.6973 - val_accuracy: 0.4000\n",
      "Epoch 68/100\n",
      "3/3 [==============================] - 0s 24ms/step - loss: 0.6924 - accuracy: 0.5250 - val_loss: 0.6973 - val_accuracy: 0.4000\n",
      "Epoch 69/100\n",
      "3/3 [==============================] - 0s 20ms/step - loss: 0.6924 - accuracy: 0.5250 - val_loss: 0.6974 - val_accuracy: 0.4000\n",
      "Epoch 70/100\n",
      "3/3 [==============================] - 0s 20ms/step - loss: 0.6924 - accuracy: 0.5250 - val_loss: 0.6974 - val_accuracy: 0.4000\n",
      "Epoch 71/100\n",
      "3/3 [==============================] - 0s 24ms/step - loss: 0.6923 - accuracy: 0.5250 - val_loss: 0.6974 - val_accuracy: 0.4000\n",
      "Epoch 72/100\n",
      "3/3 [==============================] - 0s 18ms/step - loss: 0.6923 - accuracy: 0.5250 - val_loss: 0.6974 - val_accuracy: 0.4000\n",
      "Epoch 73/100\n",
      "3/3 [==============================] - 0s 21ms/step - loss: 0.6923 - accuracy: 0.5250 - val_loss: 0.6974 - val_accuracy: 0.4000\n",
      "Epoch 74/100\n",
      "3/3 [==============================] - 0s 20ms/step - loss: 0.6923 - accuracy: 0.5250 - val_loss: 0.6974 - val_accuracy: 0.4000\n",
      "Epoch 75/100\n",
      "3/3 [==============================] - 0s 24ms/step - loss: 0.6923 - accuracy: 0.5250 - val_loss: 0.6975 - val_accuracy: 0.4000\n",
      "Epoch 76/100\n",
      "3/3 [==============================] - 0s 20ms/step - loss: 0.6923 - accuracy: 0.5250 - val_loss: 0.6975 - val_accuracy: 0.4000\n",
      "Epoch 77/100\n",
      "3/3 [==============================] - 0s 20ms/step - loss: 0.6923 - accuracy: 0.5250 - val_loss: 0.6976 - val_accuracy: 0.4000\n",
      "Epoch 78/100\n",
      "3/3 [==============================] - 0s 20ms/step - loss: 0.6923 - accuracy: 0.5250 - val_loss: 0.6977 - val_accuracy: 0.4000\n",
      "Epoch 79/100\n",
      "3/3 [==============================] - 0s 20ms/step - loss: 0.6923 - accuracy: 0.5250 - val_loss: 0.6977 - val_accuracy: 0.4000\n",
      "Epoch 80/100\n",
      "3/3 [==============================] - 0s 20ms/step - loss: 0.6923 - accuracy: 0.5250 - val_loss: 0.6978 - val_accuracy: 0.4000\n",
      "Epoch 81/100\n",
      "3/3 [==============================] - 0s 24ms/step - loss: 0.6923 - accuracy: 0.5250 - val_loss: 0.6979 - val_accuracy: 0.4000\n",
      "Epoch 82/100\n",
      "3/3 [==============================] - 0s 21ms/step - loss: 0.6923 - accuracy: 0.5250 - val_loss: 0.6980 - val_accuracy: 0.4000\n",
      "Epoch 83/100\n",
      "3/3 [==============================] - 0s 24ms/step - loss: 0.6923 - accuracy: 0.5250 - val_loss: 0.6981 - val_accuracy: 0.4000\n",
      "Epoch 84/100\n",
      "3/3 [==============================] - 0s 20ms/step - loss: 0.6922 - accuracy: 0.5250 - val_loss: 0.6981 - val_accuracy: 0.4000\n",
      "Epoch 85/100\n",
      "3/3 [==============================] - 0s 16ms/step - loss: 0.6922 - accuracy: 0.5250 - val_loss: 0.6982 - val_accuracy: 0.4000\n",
      "Epoch 86/100\n",
      "3/3 [==============================] - 0s 20ms/step - loss: 0.6922 - accuracy: 0.5250 - val_loss: 0.6983 - val_accuracy: 0.4000\n",
      "Epoch 87/100\n",
      "3/3 [==============================] - 0s 21ms/step - loss: 0.6922 - accuracy: 0.5250 - val_loss: 0.6983 - val_accuracy: 0.4000\n",
      "Epoch 88/100\n",
      "3/3 [==============================] - 0s 21ms/step - loss: 0.6922 - accuracy: 0.5250 - val_loss: 0.6984 - val_accuracy: 0.4000\n",
      "Epoch 89/100\n",
      "3/3 [==============================] - 0s 24ms/step - loss: 0.6922 - accuracy: 0.5250 - val_loss: 0.6985 - val_accuracy: 0.4000\n",
      "Epoch 90/100\n",
      "3/3 [==============================] - 0s 20ms/step - loss: 0.6922 - accuracy: 0.5250 - val_loss: 0.6986 - val_accuracy: 0.4000\n",
      "Epoch 91/100\n",
      "3/3 [==============================] - 0s 20ms/step - loss: 0.6922 - accuracy: 0.5250 - val_loss: 0.6986 - val_accuracy: 0.4000\n",
      "Epoch 92/100\n",
      "3/3 [==============================] - 0s 24ms/step - loss: 0.6922 - accuracy: 0.5250 - val_loss: 0.6987 - val_accuracy: 0.4000\n",
      "Epoch 93/100\n",
      "3/3 [==============================] - 0s 17ms/step - loss: 0.6922 - accuracy: 0.5250 - val_loss: 0.6988 - val_accuracy: 0.4000\n",
      "Epoch 94/100\n",
      "3/3 [==============================] - 0s 21ms/step - loss: 0.6922 - accuracy: 0.5250 - val_loss: 0.6989 - val_accuracy: 0.4000\n",
      "Epoch 95/100\n",
      "3/3 [==============================] - 0s 24ms/step - loss: 0.6922 - accuracy: 0.5250 - val_loss: 0.6990 - val_accuracy: 0.4000\n",
      "Epoch 96/100\n",
      "3/3 [==============================] - 0s 18ms/step - loss: 0.6922 - accuracy: 0.5250 - val_loss: 0.6990 - val_accuracy: 0.4000\n",
      "Epoch 97/100\n",
      "3/3 [==============================] - 0s 24ms/step - loss: 0.6922 - accuracy: 0.5250 - val_loss: 0.6991 - val_accuracy: 0.4000\n",
      "Epoch 98/100\n",
      "3/3 [==============================] - 0s 24ms/step - loss: 0.6921 - accuracy: 0.5250 - val_loss: 0.6991 - val_accuracy: 0.4000\n",
      "Epoch 99/100\n",
      "3/3 [==============================] - 0s 20ms/step - loss: 0.6922 - accuracy: 0.5250 - val_loss: 0.6991 - val_accuracy: 0.4000\n",
      "Epoch 100/100\n",
      "3/3 [==============================] - 0s 20ms/step - loss: 0.6921 - accuracy: 0.5250 - val_loss: 0.6991 - val_accuracy: 0.4000\n"
     ]
    }
   ],
   "source": [
    "# trainning models\n",
    "\n",
    "history = model.fit(X,y,epochs=100,validation_split=0.2)"
   ]
  },
  {
   "cell_type": "code",
   "execution_count": 63,
   "id": "0563347f",
   "metadata": {},
   "outputs": [
    {
     "data": {
      "text/plain": [
       "[array([[0., 0., 0., 0.],\n",
       "        [0., 0., 0., 0.]], dtype=float32),\n",
       " array([0., 0., 0., 0.], dtype=float32),\n",
       " array([[0., 0.],\n",
       "        [0., 0.],\n",
       "        [0., 0.],\n",
       "        [0., 0.]], dtype=float32),\n",
       " array([0., 0.], dtype=float32),\n",
       " array([[0.],\n",
       "        [0.]], dtype=float32),\n",
       " array([-0.05605341], dtype=float32)]"
      ]
     },
     "execution_count": 63,
     "metadata": {},
     "output_type": "execute_result"
    }
   ],
   "source": [
    "model.get_weights()"
   ]
  },
  {
   "cell_type": "markdown",
   "id": "52fcbbdf",
   "metadata": {},
   "source": [
    "- Observations:\n",
    "     1. As we can observe same layer behave same as every node is one and they are updated in same manner\n",
    "     2. Due to this our model will show linear characterstics"
   ]
  },
  {
   "cell_type": "code",
   "execution_count": 64,
   "id": "0b96e633",
   "metadata": {},
   "outputs": [],
   "source": [
    "# Plotting decision regions\n",
    "\n",
    "from mlxtend.plotting import plot_decision_regions"
   ]
  },
  {
   "cell_type": "code",
   "execution_count": 65,
   "id": "18da6c29",
   "metadata": {},
   "outputs": [
    {
     "name": "stdout",
     "output_type": "stream",
     "text": [
      "12960/12960 [==============================] - 22s 2ms/step\n"
     ]
    },
    {
     "data": {
      "text/plain": [
       "<AxesSubplot:>"
      ]
     },
     "execution_count": 65,
     "metadata": {},
     "output_type": "execute_result"
    },
    {
     "data": {
      "image/png": "[encoded data removed]",
      "text/plain": [
       "<Figure size 720x576 with 1 Axes>"
      ]
     },
     "metadata": {
      "needs_background": "light"
     },
     "output_type": "display_data"
    }
   ],
   "source": [
    "plot_decision_regions(X,y, clf=model)"
   ]
  },
  {
   "cell_type": "markdown",
   "id": "b8aff51e",
   "metadata": {},
   "source": [
    "- It can not seperate the nonlinear characterstic of data hence, painted one resion and did not learn"
   ]
  },
  {
   "cell_type": "markdown",
   "id": "e7f2fb95",
   "metadata": {},
   "source": [
    "# Tanh"
   ]
  },
  {
   "cell_type": "code",
   "execution_count": 46,
   "id": "b67008b6",
   "metadata": {},
   "outputs": [
    {
     "name": "stdout",
     "output_type": "stream",
     "text": [
      "Model: \"sequential_3\"\n",
      "_________________________________________________________________\n",
      " Layer (type)                Output Shape              Param #   \n",
      "=================================================================\n",
      " dense_9 (Dense)             (None, 4)                 12        \n",
      "                                                                 \n",
      " dense_10 (Dense)            (None, 2)                 10        \n",
      "                                                                 \n",
      " dense_11 (Dense)            (None, 1)                 3         \n",
      "                                                                 \n",
      "=================================================================\n",
      "Total params: 25\n",
      "Trainable params: 25\n",
      "Non-trainable params: 0\n",
      "_________________________________________________________________\n"
     ]
    }
   ],
   "source": [
    "# Creating Model\n",
    "\n",
    "model1 = Sequential()\n",
    "\n",
    "model1.add(Dense(4, input_dim=2, activation=\"tanh\"))\n",
    "model1.add(Dense(2, activation=\"tanh\"))\n",
    "model1.add(Dense(1, activation=\"sigmoid\"))\n",
    "\n",
    "model1.summary()"
   ]
  },
  {
   "cell_type": "code",
   "execution_count": 47,
   "id": "c7406399",
   "metadata": {},
   "outputs": [
    {
     "data": {
      "text/plain": [
       "[array([[-0.44134703, -0.44134703, -0.44134703, -0.44134703],\n",
       "        [ 0.45418912,  0.45418912,  0.45418912,  0.45418912]],\n",
       "       dtype=float32),\n",
       " array([0.05310895, 0.05310895, 0.05310895, 0.05310895], dtype=float32),\n",
       " array([[0.19435444, 0.19435444],\n",
       "        [0.19435444, 0.19435444],\n",
       "        [0.19435444, 0.19435444],\n",
       "        [0.19435444, 0.19435444]], dtype=float32),\n",
       " array([0.04855647, 0.04855647], dtype=float32),\n",
       " array([[-0.05286448],\n",
       "        [-0.05286448]], dtype=float32),\n",
       " array([-0.04068751], dtype=float32)]"
      ]
     },
     "execution_count": 47,
     "metadata": {},
     "output_type": "execute_result"
    }
   ],
   "source": [
    "model.get_weights()"
   ]
  },
  {
   "cell_type": "code",
   "execution_count": 48,
   "id": "8f7e1bd2",
   "metadata": {},
   "outputs": [],
   "source": [
    "# Saving weights\n",
    "initial_weights = model.get_weights()\n",
    "\n",
    "# Giving Zero weights to model\n",
    "\n",
    "initial_weights[0] = np.zeros(model.get_weights()[0].shape)\n",
    "initial_weights[1] = np.zeros(model.get_weights()[1].shape)\n",
    "initial_weights[2] = np.zeros(model.get_weights()[2].shape)\n",
    "initial_weights[3] = np.zeros(model.get_weights()[3].shape)\n",
    "initial_weights[4] = np.zeros(model.get_weights()[4].shape)\n",
    "initial_weights[5] = np.zeros(model.get_weights()[5].shape)\n"
   ]
  },
  {
   "cell_type": "code",
   "execution_count": 49,
   "id": "82935e82",
   "metadata": {},
   "outputs": [],
   "source": [
    "model1.compile(loss=\"binary_crossentropy\", optimizer='adam', metrics=[\"accuracy\"])"
   ]
  },
  {
   "cell_type": "code",
   "execution_count": 50,
   "id": "e5ca117c",
   "metadata": {},
   "outputs": [],
   "source": [
    "# setting Zero weights\n",
    "\n",
    "model1.set_weights(initial_weights)"
   ]
  },
  {
   "cell_type": "code",
   "execution_count": 51,
   "id": "52294dc4",
   "metadata": {},
   "outputs": [
    {
     "name": "stdout",
     "output_type": "stream",
     "text": [
      "Epoch 1/100\n",
      "3/3 [==============================] - 1s 138ms/step - loss: 0.6932 - accuracy: 0.4250 - val_loss: 0.6931 - val_accuracy: 0.6000\n",
      "Epoch 2/100\n",
      "3/3 [==============================] - 0s 24ms/step - loss: 0.6932 - accuracy: 0.4500 - val_loss: 0.6933 - val_accuracy: 0.4000\n",
      "Epoch 3/100\n",
      "3/3 [==============================] - 0s 28ms/step - loss: 0.6931 - accuracy: 0.5250 - val_loss: 0.6934 - val_accuracy: 0.4000\n",
      "Epoch 4/100\n",
      "3/3 [==============================] - 0s 20ms/step - loss: 0.6931 - accuracy: 0.5250 - val_loss: 0.6935 - val_accuracy: 0.4000\n",
      "Epoch 5/100\n",
      "3/3 [==============================] - 0s 26ms/step - loss: 0.6931 - accuracy: 0.5250 - val_loss: 0.6936 - val_accuracy: 0.4000\n",
      "Epoch 6/100\n",
      "3/3 [==============================] - 0s 20ms/step - loss: 0.6930 - accuracy: 0.5250 - val_loss: 0.6937 - val_accuracy: 0.4000\n",
      "Epoch 7/100\n",
      "3/3 [==============================] - 0s 28ms/step - loss: 0.6930 - accuracy: 0.5250 - val_loss: 0.6938 - val_accuracy: 0.4000\n",
      "Epoch 8/100\n",
      "3/3 [==============================] - 0s 20ms/step - loss: 0.6930 - accuracy: 0.5250 - val_loss: 0.6939 - val_accuracy: 0.4000\n",
      "Epoch 9/100\n",
      "3/3 [==============================] - 0s 24ms/step - loss: 0.6930 - accuracy: 0.5250 - val_loss: 0.6941 - val_accuracy: 0.4000\n",
      "Epoch 10/100\n",
      "3/3 [==============================] - 0s 21ms/step - loss: 0.6929 - accuracy: 0.5250 - val_loss: 0.6942 - val_accuracy: 0.4000\n",
      "Epoch 11/100\n",
      "3/3 [==============================] - 0s 24ms/step - loss: 0.6929 - accuracy: 0.5250 - val_loss: 0.6943 - val_accuracy: 0.4000\n",
      "Epoch 12/100\n",
      "3/3 [==============================] - 0s 24ms/step - loss: 0.6929 - accuracy: 0.5250 - val_loss: 0.6944 - val_accuracy: 0.4000\n",
      "Epoch 13/100\n",
      "3/3 [==============================] - 0s 24ms/step - loss: 0.6929 - accuracy: 0.5250 - val_loss: 0.6945 - val_accuracy: 0.4000\n",
      "Epoch 14/100\n",
      "3/3 [==============================] - 0s 24ms/step - loss: 0.6928 - accuracy: 0.5250 - val_loss: 0.6946 - val_accuracy: 0.4000\n",
      "Epoch 15/100\n",
      "3/3 [==============================] - 0s 20ms/step - loss: 0.6928 - accuracy: 0.5250 - val_loss: 0.6947 - val_accuracy: 0.4000\n",
      "Epoch 16/100\n",
      "3/3 [==============================] - 0s 24ms/step - loss: 0.6928 - accuracy: 0.5250 - val_loss: 0.6949 - val_accuracy: 0.4000\n",
      "Epoch 17/100\n",
      "3/3 [==============================] - 0s 20ms/step - loss: 0.6927 - accuracy: 0.5250 - val_loss: 0.6950 - val_accuracy: 0.4000\n",
      "Epoch 18/100\n",
      "3/3 [==============================] - 0s 20ms/step - loss: 0.6927 - accuracy: 0.5250 - val_loss: 0.6951 - val_accuracy: 0.4000\n",
      "Epoch 19/100\n",
      "3/3 [==============================] - 0s 20ms/step - loss: 0.6927 - accuracy: 0.5250 - val_loss: 0.6953 - val_accuracy: 0.4000\n",
      "Epoch 20/100\n",
      "3/3 [==============================] - 0s 20ms/step - loss: 0.6927 - accuracy: 0.5250 - val_loss: 0.6953 - val_accuracy: 0.4000\n",
      "Epoch 21/100\n",
      "3/3 [==============================] - 0s 20ms/step - loss: 0.6927 - accuracy: 0.5250 - val_loss: 0.6955 - val_accuracy: 0.4000\n",
      "Epoch 22/100\n",
      "3/3 [==============================] - 0s 20ms/step - loss: 0.6926 - accuracy: 0.5250 - val_loss: 0.6956 - val_accuracy: 0.4000\n",
      "Epoch 23/100\n",
      "3/3 [==============================] - 0s 24ms/step - loss: 0.6926 - accuracy: 0.5250 - val_loss: 0.6957 - val_accuracy: 0.4000\n",
      "Epoch 24/100\n",
      "3/3 [==============================] - 0s 18ms/step - loss: 0.6926 - accuracy: 0.5250 - val_loss: 0.6957 - val_accuracy: 0.4000\n",
      "Epoch 25/100\n",
      "3/3 [==============================] - 0s 24ms/step - loss: 0.6926 - accuracy: 0.5250 - val_loss: 0.6959 - val_accuracy: 0.4000\n",
      "Epoch 26/100\n",
      "3/3 [==============================] - 0s 24ms/step - loss: 0.6926 - accuracy: 0.5250 - val_loss: 0.6959 - val_accuracy: 0.4000\n",
      "Epoch 27/100\n",
      "3/3 [==============================] - 0s 24ms/step - loss: 0.6926 - accuracy: 0.5250 - val_loss: 0.6961 - val_accuracy: 0.4000\n",
      "Epoch 28/100\n",
      "3/3 [==============================] - 0s 24ms/step - loss: 0.6925 - accuracy: 0.5250 - val_loss: 0.6962 - val_accuracy: 0.4000\n",
      "Epoch 29/100\n",
      "3/3 [==============================] - 0s 24ms/step - loss: 0.6925 - accuracy: 0.5250 - val_loss: 0.6962 - val_accuracy: 0.4000\n",
      "Epoch 30/100\n",
      "3/3 [==============================] - 0s 20ms/step - loss: 0.6925 - accuracy: 0.5250 - val_loss: 0.6963 - val_accuracy: 0.4000\n",
      "Epoch 31/100\n",
      "3/3 [==============================] - 0s 24ms/step - loss: 0.6925 - accuracy: 0.5250 - val_loss: 0.6964 - val_accuracy: 0.4000\n",
      "Epoch 32/100\n",
      "3/3 [==============================] - 0s 24ms/step - loss: 0.6925 - accuracy: 0.5250 - val_loss: 0.6965 - val_accuracy: 0.4000\n",
      "Epoch 33/100\n",
      "3/3 [==============================] - 0s 24ms/step - loss: 0.6925 - accuracy: 0.5250 - val_loss: 0.6966 - val_accuracy: 0.4000\n",
      "Epoch 34/100\n",
      "3/3 [==============================] - 0s 24ms/step - loss: 0.6925 - accuracy: 0.5250 - val_loss: 0.6967 - val_accuracy: 0.4000\n",
      "Epoch 35/100\n",
      "3/3 [==============================] - 0s 24ms/step - loss: 0.6924 - accuracy: 0.5250 - val_loss: 0.6968 - val_accuracy: 0.4000\n",
      "Epoch 36/100\n",
      "3/3 [==============================] - 0s 24ms/step - loss: 0.6924 - accuracy: 0.5250 - val_loss: 0.6969 - val_accuracy: 0.4000\n",
      "Epoch 37/100\n",
      "3/3 [==============================] - 0s 24ms/step - loss: 0.6924 - accuracy: 0.5250 - val_loss: 0.6970 - val_accuracy: 0.4000\n",
      "Epoch 38/100\n",
      "3/3 [==============================] - 0s 24ms/step - loss: 0.6924 - accuracy: 0.5250 - val_loss: 0.6970 - val_accuracy: 0.4000\n",
      "Epoch 39/100\n",
      "3/3 [==============================] - 0s 20ms/step - loss: 0.6924 - accuracy: 0.5250 - val_loss: 0.6971 - val_accuracy: 0.4000\n",
      "Epoch 40/100\n",
      "3/3 [==============================] - 0s 28ms/step - loss: 0.6924 - accuracy: 0.5250 - val_loss: 0.6972 - val_accuracy: 0.4000\n",
      "Epoch 41/100\n",
      "3/3 [==============================] - 0s 28ms/step - loss: 0.6924 - accuracy: 0.5250 - val_loss: 0.6972 - val_accuracy: 0.4000\n",
      "Epoch 42/100\n",
      "3/3 [==============================] - 0s 24ms/step - loss: 0.6924 - accuracy: 0.5250 - val_loss: 0.6972 - val_accuracy: 0.4000\n",
      "Epoch 43/100\n",
      "3/3 [==============================] - 0s 24ms/step - loss: 0.6924 - accuracy: 0.5250 - val_loss: 0.6973 - val_accuracy: 0.4000\n",
      "Epoch 44/100\n",
      "3/3 [==============================] - 0s 28ms/step - loss: 0.6924 - accuracy: 0.5250 - val_loss: 0.6973 - val_accuracy: 0.4000\n",
      "Epoch 45/100\n",
      "3/3 [==============================] - 0s 24ms/step - loss: 0.6924 - accuracy: 0.5250 - val_loss: 0.6973 - val_accuracy: 0.4000\n",
      "Epoch 46/100\n",
      "3/3 [==============================] - 0s 20ms/step - loss: 0.6924 - accuracy: 0.5250 - val_loss: 0.6973 - val_accuracy: 0.4000\n",
      "Epoch 47/100\n",
      "3/3 [==============================] - 0s 28ms/step - loss: 0.6924 - accuracy: 0.5250 - val_loss: 0.6973 - val_accuracy: 0.4000\n",
      "Epoch 48/100\n",
      "3/3 [==============================] - 0s 24ms/step - loss: 0.6923 - accuracy: 0.5250 - val_loss: 0.6974 - val_accuracy: 0.4000\n",
      "Epoch 49/100\n",
      "3/3 [==============================] - 0s 24ms/step - loss: 0.6924 - accuracy: 0.5250 - val_loss: 0.6975 - val_accuracy: 0.4000\n",
      "Epoch 50/100\n",
      "3/3 [==============================] - 0s 24ms/step - loss: 0.6923 - accuracy: 0.5250 - val_loss: 0.6976 - val_accuracy: 0.4000\n",
      "Epoch 51/100\n",
      "3/3 [==============================] - 0s 24ms/step - loss: 0.6923 - accuracy: 0.5250 - val_loss: 0.6976 - val_accuracy: 0.4000\n",
      "Epoch 52/100\n",
      "3/3 [==============================] - 0s 24ms/step - loss: 0.6923 - accuracy: 0.5250 - val_loss: 0.6977 - val_accuracy: 0.4000\n",
      "Epoch 53/100\n",
      "3/3 [==============================] - 0s 28ms/step - loss: 0.6923 - accuracy: 0.5250 - val_loss: 0.6978 - val_accuracy: 0.4000\n",
      "Epoch 54/100\n",
      "3/3 [==============================] - 0s 54ms/step - loss: 0.6923 - accuracy: 0.5250 - val_loss: 0.6979 - val_accuracy: 0.4000\n",
      "Epoch 55/100\n",
      "3/3 [==============================] - 0s 24ms/step - loss: 0.6923 - accuracy: 0.5250 - val_loss: 0.6980 - val_accuracy: 0.4000\n",
      "Epoch 56/100\n",
      "3/3 [==============================] - 0s 20ms/step - loss: 0.6923 - accuracy: 0.5250 - val_loss: 0.6981 - val_accuracy: 0.4000\n",
      "Epoch 57/100\n",
      "3/3 [==============================] - 0s 24ms/step - loss: 0.6923 - accuracy: 0.5250 - val_loss: 0.6982 - val_accuracy: 0.4000\n",
      "Epoch 58/100\n",
      "3/3 [==============================] - 0s 24ms/step - loss: 0.6923 - accuracy: 0.5250 - val_loss: 0.6983 - val_accuracy: 0.4000\n",
      "Epoch 59/100\n"
     ]
    },
    {
     "name": "stdout",
     "output_type": "stream",
     "text": [
      "3/3 [==============================] - 0s 24ms/step - loss: 0.6922 - accuracy: 0.5250 - val_loss: 0.6983 - val_accuracy: 0.4000\n",
      "Epoch 60/100\n",
      "3/3 [==============================] - 0s 24ms/step - loss: 0.6922 - accuracy: 0.5250 - val_loss: 0.6983 - val_accuracy: 0.4000\n",
      "Epoch 61/100\n",
      "3/3 [==============================] - 0s 20ms/step - loss: 0.6922 - accuracy: 0.5250 - val_loss: 0.6984 - val_accuracy: 0.4000\n",
      "Epoch 62/100\n",
      "3/3 [==============================] - 0s 20ms/step - loss: 0.6922 - accuracy: 0.5250 - val_loss: 0.6984 - val_accuracy: 0.4000\n",
      "Epoch 63/100\n",
      "3/3 [==============================] - 0s 24ms/step - loss: 0.6922 - accuracy: 0.5250 - val_loss: 0.6984 - val_accuracy: 0.4000\n",
      "Epoch 64/100\n",
      "3/3 [==============================] - 0s 24ms/step - loss: 0.6922 - accuracy: 0.5250 - val_loss: 0.6984 - val_accuracy: 0.4000\n",
      "Epoch 65/100\n",
      "3/3 [==============================] - 0s 24ms/step - loss: 0.6922 - accuracy: 0.5250 - val_loss: 0.6984 - val_accuracy: 0.4000\n",
      "Epoch 66/100\n",
      "3/3 [==============================] - 0s 20ms/step - loss: 0.6922 - accuracy: 0.5250 - val_loss: 0.6984 - val_accuracy: 0.4000\n",
      "Epoch 67/100\n",
      "3/3 [==============================] - 0s 24ms/step - loss: 0.6922 - accuracy: 0.5250 - val_loss: 0.6984 - val_accuracy: 0.4000\n",
      "Epoch 68/100\n",
      "3/3 [==============================] - 0s 17ms/step - loss: 0.6922 - accuracy: 0.5250 - val_loss: 0.6985 - val_accuracy: 0.4000\n",
      "Epoch 69/100\n",
      "3/3 [==============================] - 0s 21ms/step - loss: 0.6922 - accuracy: 0.5250 - val_loss: 0.6986 - val_accuracy: 0.4000\n",
      "Epoch 70/100\n",
      "3/3 [==============================] - 0s 20ms/step - loss: 0.6922 - accuracy: 0.5250 - val_loss: 0.6987 - val_accuracy: 0.4000\n",
      "Epoch 71/100\n",
      "3/3 [==============================] - 0s 24ms/step - loss: 0.6922 - accuracy: 0.5250 - val_loss: 0.6987 - val_accuracy: 0.4000\n",
      "Epoch 72/100\n",
      "3/3 [==============================] - 0s 20ms/step - loss: 0.6922 - accuracy: 0.5250 - val_loss: 0.6987 - val_accuracy: 0.4000\n",
      "Epoch 73/100\n",
      "3/3 [==============================] - 0s 20ms/step - loss: 0.6922 - accuracy: 0.5250 - val_loss: 0.6988 - val_accuracy: 0.4000\n",
      "Epoch 74/100\n",
      "3/3 [==============================] - 0s 20ms/step - loss: 0.6922 - accuracy: 0.5250 - val_loss: 0.6988 - val_accuracy: 0.4000\n",
      "Epoch 75/100\n",
      "3/3 [==============================] - 0s 22ms/step - loss: 0.6922 - accuracy: 0.5250 - val_loss: 0.6989 - val_accuracy: 0.4000\n",
      "Epoch 76/100\n",
      "3/3 [==============================] - 0s 28ms/step - loss: 0.6922 - accuracy: 0.5250 - val_loss: 0.6990 - val_accuracy: 0.4000\n",
      "Epoch 77/100\n",
      "3/3 [==============================] - 0s 20ms/step - loss: 0.6922 - accuracy: 0.5250 - val_loss: 0.6990 - val_accuracy: 0.4000\n",
      "Epoch 78/100\n",
      "3/3 [==============================] - 0s 24ms/step - loss: 0.6922 - accuracy: 0.5250 - val_loss: 0.6990 - val_accuracy: 0.4000\n",
      "Epoch 79/100\n",
      "3/3 [==============================] - 0s 24ms/step - loss: 0.6922 - accuracy: 0.5250 - val_loss: 0.6990 - val_accuracy: 0.4000\n",
      "Epoch 80/100\n",
      "3/3 [==============================] - 0s 17ms/step - loss: 0.6922 - accuracy: 0.5250 - val_loss: 0.6989 - val_accuracy: 0.4000\n",
      "Epoch 81/100\n",
      "3/3 [==============================] - 0s 17ms/step - loss: 0.6922 - accuracy: 0.5250 - val_loss: 0.6989 - val_accuracy: 0.4000\n",
      "Epoch 82/100\n",
      "3/3 [==============================] - 0s 21ms/step - loss: 0.6922 - accuracy: 0.5250 - val_loss: 0.6989 - val_accuracy: 0.4000\n",
      "Epoch 83/100\n",
      "3/3 [==============================] - 0s 20ms/step - loss: 0.6922 - accuracy: 0.5250 - val_loss: 0.6989 - val_accuracy: 0.4000\n",
      "Epoch 84/100\n",
      "3/3 [==============================] - 0s 24ms/step - loss: 0.6922 - accuracy: 0.5250 - val_loss: 0.6988 - val_accuracy: 0.4000\n",
      "Epoch 85/100\n",
      "3/3 [==============================] - 0s 20ms/step - loss: 0.6922 - accuracy: 0.5250 - val_loss: 0.6988 - val_accuracy: 0.4000\n",
      "Epoch 86/100\n",
      "3/3 [==============================] - 0s 24ms/step - loss: 0.6922 - accuracy: 0.5250 - val_loss: 0.6988 - val_accuracy: 0.4000\n",
      "Epoch 87/100\n",
      "3/3 [==============================] - 0s 20ms/step - loss: 0.6922 - accuracy: 0.5250 - val_loss: 0.6987 - val_accuracy: 0.4000\n",
      "Epoch 88/100\n",
      "3/3 [==============================] - 0s 20ms/step - loss: 0.6922 - accuracy: 0.5250 - val_loss: 0.6987 - val_accuracy: 0.4000\n",
      "Epoch 89/100\n",
      "3/3 [==============================] - 0s 24ms/step - loss: 0.6922 - accuracy: 0.5250 - val_loss: 0.6987 - val_accuracy: 0.4000\n",
      "Epoch 90/100\n",
      "3/3 [==============================] - 0s 20ms/step - loss: 0.6922 - accuracy: 0.5250 - val_loss: 0.6987 - val_accuracy: 0.4000\n",
      "Epoch 91/100\n",
      "3/3 [==============================] - 0s 17ms/step - loss: 0.6922 - accuracy: 0.5250 - val_loss: 0.6986 - val_accuracy: 0.4000\n",
      "Epoch 92/100\n",
      "3/3 [==============================] - 0s 25ms/step - loss: 0.6922 - accuracy: 0.5250 - val_loss: 0.6986 - val_accuracy: 0.4000\n",
      "Epoch 93/100\n",
      "3/3 [==============================] - 0s 17ms/step - loss: 0.6922 - accuracy: 0.5250 - val_loss: 0.6986 - val_accuracy: 0.4000\n",
      "Epoch 94/100\n",
      "3/3 [==============================] - 0s 20ms/step - loss: 0.6922 - accuracy: 0.5250 - val_loss: 0.6987 - val_accuracy: 0.4000\n",
      "Epoch 95/100\n",
      "3/3 [==============================] - 0s 18ms/step - loss: 0.6922 - accuracy: 0.5250 - val_loss: 0.6986 - val_accuracy: 0.4000\n",
      "Epoch 96/100\n",
      "3/3 [==============================] - 0s 20ms/step - loss: 0.6922 - accuracy: 0.5250 - val_loss: 0.6986 - val_accuracy: 0.4000\n",
      "Epoch 97/100\n",
      "3/3 [==============================] - 0s 24ms/step - loss: 0.6922 - accuracy: 0.5250 - val_loss: 0.6986 - val_accuracy: 0.4000\n",
      "Epoch 98/100\n",
      "3/3 [==============================] - 0s 20ms/step - loss: 0.6922 - accuracy: 0.5250 - val_loss: 0.6987 - val_accuracy: 0.4000\n",
      "Epoch 99/100\n",
      "3/3 [==============================] - 0s 20ms/step - loss: 0.6922 - accuracy: 0.5250 - val_loss: 0.6987 - val_accuracy: 0.4000\n",
      "Epoch 100/100\n",
      "3/3 [==============================] - 0s 24ms/step - loss: 0.6922 - accuracy: 0.5250 - val_loss: 0.6987 - val_accuracy: 0.4000\n"
     ]
    }
   ],
   "source": [
    "# trainning models\n",
    "\n",
    "history = model1.fit(X,y,epochs=100,validation_split=0.2)"
   ]
  },
  {
   "cell_type": "code",
   "execution_count": 52,
   "id": "a73eb31e",
   "metadata": {},
   "outputs": [
    {
     "data": {
      "text/plain": [
       "[array([[0., 0., 0., 0.],\n",
       "        [0., 0., 0., 0.]], dtype=float32),\n",
       " array([0., 0., 0., 0.], dtype=float32),\n",
       " array([[0., 0.],\n",
       "        [0., 0.],\n",
       "        [0., 0.],\n",
       "        [0., 0.]], dtype=float32),\n",
       " array([0., 0.], dtype=float32),\n",
       " array([[0.],\n",
       "        [0.]], dtype=float32),\n",
       " array([-0.05242507], dtype=float32)]"
      ]
     },
     "execution_count": 52,
     "metadata": {},
     "output_type": "execute_result"
    }
   ],
   "source": [
    "model1.get_weights()"
   ]
  },
  {
   "cell_type": "markdown",
   "id": "45741406",
   "metadata": {},
   "source": [
    "- Observations:\n",
    "     1. Same as Above Sigmoid function"
   ]
  },
  {
   "cell_type": "code",
   "execution_count": 53,
   "id": "c6fd601e",
   "metadata": {},
   "outputs": [
    {
     "name": "stdout",
     "output_type": "stream",
     "text": [
      "12960/12960 [==============================] - 22s 2ms/step\n"
     ]
    },
    {
     "name": "stderr",
     "output_type": "stream",
     "text": [
      "C:\\Python\\Python39\\lib\\site-packages\\mlxtend\\plotting\\decision_regions.py:243: UserWarning: No contour levels were found within the data range.\n",
      "  ax.contour(xx, yy, Z, cset.levels,\n"
     ]
    },
    {
     "data": {
      "text/plain": [
       "<AxesSubplot:>"
      ]
     },
     "execution_count": 53,
     "metadata": {},
     "output_type": "execute_result"
    },
    {
     "data": {
      "image/png": "[encoded data removed]",
      "text/plain": [
       "<Figure size 720x576 with 1 Axes>"
      ]
     },
     "metadata": {
      "needs_background": "light"
     },
     "output_type": "display_data"
    }
   ],
   "source": [
    "# Plotting Decision Regions\n",
    "\n",
    "plot_decision_regions(X,y, clf=model1)"
   ]
  },
  {
   "cell_type": "markdown",
   "id": "c427d716",
   "metadata": {},
   "source": [
    "## Sigmoid"
   ]
  },
  {
   "cell_type": "code",
   "execution_count": 68,
   "id": "5f0085b0",
   "metadata": {},
   "outputs": [
    {
     "name": "stdout",
     "output_type": "stream",
     "text": [
      "Model: \"sequential_6\"\n",
      "_________________________________________________________________\n",
      " Layer (type)                Output Shape              Param #   \n",
      "=================================================================\n",
      " dense_18 (Dense)            (None, 4)                 12        \n",
      "                                                                 \n",
      " dense_19 (Dense)            (None, 2)                 10        \n",
      "                                                                 \n",
      " dense_20 (Dense)            (None, 1)                 3         \n",
      "                                                                 \n",
      "=================================================================\n",
      "Total params: 25\n",
      "Trainable params: 25\n",
      "Non-trainable params: 0\n",
      "_________________________________________________________________\n"
     ]
    }
   ],
   "source": [
    "# Creating Model\n",
    "\n",
    "model2 = Sequential()\n",
    "\n",
    "model2.add(Dense(4, input_dim=2, activation=\"sigmoid\"))\n",
    "model2.add(Dense(2, activation=\"sigmoid\"))\n",
    "model2.add(Dense(1, activation=\"sigmoid\"))\n",
    "\n",
    "model2.summary()"
   ]
  },
  {
   "cell_type": "code",
   "execution_count": 69,
   "id": "d7bd0e4c",
   "metadata": {},
   "outputs": [
    {
     "data": {
      "text/plain": [
       "[array([[ 0.54004574,  0.55072   , -0.23015285, -0.22190285],\n",
       "        [ 0.16212773, -0.80574393,  0.41292238,  0.69171286]],\n",
       "       dtype=float32),\n",
       " array([0., 0., 0., 0.], dtype=float32),\n",
       " array([[-0.98565006,  0.76633024],\n",
       "        [-0.77334523, -0.04168439],\n",
       "        [ 0.64756155,  0.93765926],\n",
       "        [ 0.26055694, -0.6048298 ]], dtype=float32),\n",
       " array([0., 0.], dtype=float32),\n",
       " array([[0.22003925],\n",
       "        [0.04299819]], dtype=float32),\n",
       " array([0.], dtype=float32)]"
      ]
     },
     "execution_count": 69,
     "metadata": {},
     "output_type": "execute_result"
    }
   ],
   "source": [
    "model2.get_weights()"
   ]
  },
  {
   "cell_type": "code",
   "execution_count": 70,
   "id": "6606771b",
   "metadata": {},
   "outputs": [],
   "source": [
    "# Saving weights\n",
    "initial_weights = model2.get_weights()\n",
    "\n",
    "# Giving Zero weights to model\n",
    "\n",
    "initial_weights[0] = np.zeros(model2.get_weights()[0].shape)*0.5\n",
    "initial_weights[1] = np.zeros(model2.get_weights()[1].shape)*0.5\n",
    "initial_weights[2] = np.zeros(model2.get_weights()[2].shape)*0.5\n",
    "initial_weights[3] = np.zeros(model2.get_weights()[3].shape)*0.5\n",
    "initial_weights[4] = np.zeros(model2.get_weights()[4].shape)*0.5\n",
    "initial_weights[5] = np.zeros(model2.get_weights()[5].shape)*0.5\n",
    "\n",
    "# giving initial_weight = 0.5 as after solving sigmoid function and Z=0 we get 0.5"
   ]
  },
  {
   "cell_type": "code",
   "execution_count": 72,
   "id": "cdbf008b",
   "metadata": {},
   "outputs": [],
   "source": [
    "model2.compile(loss=\"binary_crossentropy\", optimizer='adam', metrics=[\"accuracy\"])"
   ]
  },
  {
   "cell_type": "code",
   "execution_count": 73,
   "id": "0e3579c0",
   "metadata": {},
   "outputs": [
    {
     "name": "stdout",
     "output_type": "stream",
     "text": [
      "Epoch 1/100\n",
      "3/3 [==============================] - 1s 127ms/step - loss: 0.6932 - accuracy: 0.5250 - val_loss: 0.6936 - val_accuracy: 0.4000\n",
      "Epoch 2/100\n",
      "3/3 [==============================] - 0s 28ms/step - loss: 0.6931 - accuracy: 0.5250 - val_loss: 0.6936 - val_accuracy: 0.4000\n",
      "Epoch 3/100\n",
      "3/3 [==============================] - 0s 24ms/step - loss: 0.6930 - accuracy: 0.5250 - val_loss: 0.6939 - val_accuracy: 0.4000\n",
      "Epoch 4/100\n",
      "3/3 [==============================] - 0s 25ms/step - loss: 0.6929 - accuracy: 0.5250 - val_loss: 0.6941 - val_accuracy: 0.4000\n",
      "Epoch 5/100\n",
      "3/3 [==============================] - 0s 28ms/step - loss: 0.6930 - accuracy: 0.5250 - val_loss: 0.6944 - val_accuracy: 0.4000\n",
      "Epoch 6/100\n",
      "3/3 [==============================] - 0s 24ms/step - loss: 0.6929 - accuracy: 0.5250 - val_loss: 0.6945 - val_accuracy: 0.4000\n",
      "Epoch 7/100\n",
      "3/3 [==============================] - 0s 28ms/step - loss: 0.6928 - accuracy: 0.5250 - val_loss: 0.6947 - val_accuracy: 0.4000\n",
      "Epoch 8/100\n",
      "3/3 [==============================] - 0s 24ms/step - loss: 0.6928 - accuracy: 0.5250 - val_loss: 0.6949 - val_accuracy: 0.4000\n",
      "Epoch 9/100\n",
      "3/3 [==============================] - 0s 24ms/step - loss: 0.6928 - accuracy: 0.5250 - val_loss: 0.6950 - val_accuracy: 0.4000\n",
      "Epoch 10/100\n",
      "3/3 [==============================] - 0s 28ms/step - loss: 0.6927 - accuracy: 0.5250 - val_loss: 0.6951 - val_accuracy: 0.4000\n",
      "Epoch 11/100\n",
      "3/3 [==============================] - 0s 24ms/step - loss: 0.6927 - accuracy: 0.5250 - val_loss: 0.6952 - val_accuracy: 0.4000\n",
      "Epoch 12/100\n",
      "3/3 [==============================] - 0s 32ms/step - loss: 0.6927 - accuracy: 0.5250 - val_loss: 0.6953 - val_accuracy: 0.4000\n",
      "Epoch 13/100\n",
      "3/3 [==============================] - 0s 28ms/step - loss: 0.6927 - accuracy: 0.5250 - val_loss: 0.6955 - val_accuracy: 0.4000\n",
      "Epoch 14/100\n",
      "3/3 [==============================] - 0s 28ms/step - loss: 0.6926 - accuracy: 0.5250 - val_loss: 0.6957 - val_accuracy: 0.4000\n",
      "Epoch 15/100\n",
      "3/3 [==============================] - 0s 28ms/step - loss: 0.6926 - accuracy: 0.5250 - val_loss: 0.6959 - val_accuracy: 0.4000\n",
      "Epoch 16/100\n",
      "3/3 [==============================] - 0s 28ms/step - loss: 0.6926 - accuracy: 0.5250 - val_loss: 0.6960 - val_accuracy: 0.4000\n",
      "Epoch 17/100\n",
      "3/3 [==============================] - 0s 24ms/step - loss: 0.6926 - accuracy: 0.5250 - val_loss: 0.6962 - val_accuracy: 0.4000\n",
      "Epoch 18/100\n",
      "3/3 [==============================] - 0s 28ms/step - loss: 0.6925 - accuracy: 0.5250 - val_loss: 0.6962 - val_accuracy: 0.4000\n",
      "Epoch 19/100\n",
      "3/3 [==============================] - 0s 28ms/step - loss: 0.6925 - accuracy: 0.5250 - val_loss: 0.6962 - val_accuracy: 0.4000\n",
      "Epoch 20/100\n",
      "3/3 [==============================] - 0s 20ms/step - loss: 0.6925 - accuracy: 0.5250 - val_loss: 0.6963 - val_accuracy: 0.4000\n",
      "Epoch 21/100\n",
      "3/3 [==============================] - 0s 25ms/step - loss: 0.6925 - accuracy: 0.5250 - val_loss: 0.6964 - val_accuracy: 0.4000\n",
      "Epoch 22/100\n",
      "3/3 [==============================] - 0s 28ms/step - loss: 0.6925 - accuracy: 0.5250 - val_loss: 0.6966 - val_accuracy: 0.4000\n",
      "Epoch 23/100\n",
      "3/3 [==============================] - 0s 28ms/step - loss: 0.6925 - accuracy: 0.5250 - val_loss: 0.6967 - val_accuracy: 0.4000\n",
      "Epoch 24/100\n",
      "3/3 [==============================] - 0s 32ms/step - loss: 0.6924 - accuracy: 0.5250 - val_loss: 0.6967 - val_accuracy: 0.4000\n",
      "Epoch 25/100\n",
      "3/3 [==============================] - 0s 28ms/step - loss: 0.6925 - accuracy: 0.5250 - val_loss: 0.6968 - val_accuracy: 0.4000\n",
      "Epoch 26/100\n",
      "3/3 [==============================] - 0s 24ms/step - loss: 0.6924 - accuracy: 0.5250 - val_loss: 0.6969 - val_accuracy: 0.4000\n",
      "Epoch 27/100\n",
      "3/3 [==============================] - 0s 28ms/step - loss: 0.6924 - accuracy: 0.5250 - val_loss: 0.6969 - val_accuracy: 0.4000\n",
      "Epoch 28/100\n",
      "3/3 [==============================] - 0s 24ms/step - loss: 0.6924 - accuracy: 0.5250 - val_loss: 0.6970 - val_accuracy: 0.4000\n",
      "Epoch 29/100\n",
      "3/3 [==============================] - 0s 24ms/step - loss: 0.6924 - accuracy: 0.5250 - val_loss: 0.6969 - val_accuracy: 0.4000\n",
      "Epoch 30/100\n",
      "3/3 [==============================] - 0s 32ms/step - loss: 0.6924 - accuracy: 0.5250 - val_loss: 0.6969 - val_accuracy: 0.4000\n",
      "Epoch 31/100\n",
      "3/3 [==============================] - 0s 28ms/step - loss: 0.6924 - accuracy: 0.5250 - val_loss: 0.6968 - val_accuracy: 0.4000\n",
      "Epoch 32/100\n",
      "3/3 [==============================] - 0s 28ms/step - loss: 0.6924 - accuracy: 0.5250 - val_loss: 0.6968 - val_accuracy: 0.4000\n",
      "Epoch 33/100\n",
      "3/3 [==============================] - 0s 28ms/step - loss: 0.6924 - accuracy: 0.5250 - val_loss: 0.6969 - val_accuracy: 0.4000\n",
      "Epoch 34/100\n",
      "3/3 [==============================] - 0s 24ms/step - loss: 0.6924 - accuracy: 0.5250 - val_loss: 0.6970 - val_accuracy: 0.4000\n",
      "Epoch 35/100\n",
      "3/3 [==============================] - 0s 32ms/step - loss: 0.6924 - accuracy: 0.5250 - val_loss: 0.6971 - val_accuracy: 0.4000\n",
      "Epoch 36/100\n",
      "3/3 [==============================] - 0s 32ms/step - loss: 0.6924 - accuracy: 0.5250 - val_loss: 0.6972 - val_accuracy: 0.4000\n",
      "Epoch 37/100\n",
      "3/3 [==============================] - 0s 32ms/step - loss: 0.6924 - accuracy: 0.5250 - val_loss: 0.6974 - val_accuracy: 0.4000\n",
      "Epoch 38/100\n",
      "3/3 [==============================] - 0s 24ms/step - loss: 0.6923 - accuracy: 0.5250 - val_loss: 0.6975 - val_accuracy: 0.4000\n",
      "Epoch 39/100\n",
      "3/3 [==============================] - 0s 20ms/step - loss: 0.6923 - accuracy: 0.5250 - val_loss: 0.6976 - val_accuracy: 0.4000\n",
      "Epoch 40/100\n",
      "3/3 [==============================] - 0s 50ms/step - loss: 0.6923 - accuracy: 0.5250 - val_loss: 0.6976 - val_accuracy: 0.4000\n",
      "Epoch 41/100\n",
      "3/3 [==============================] - 0s 24ms/step - loss: 0.6923 - accuracy: 0.5250 - val_loss: 0.6977 - val_accuracy: 0.4000\n",
      "Epoch 42/100\n",
      "3/3 [==============================] - 0s 24ms/step - loss: 0.6923 - accuracy: 0.5250 - val_loss: 0.6979 - val_accuracy: 0.4000\n",
      "Epoch 43/100\n",
      "3/3 [==============================] - 0s 26ms/step - loss: 0.6922 - accuracy: 0.5250 - val_loss: 0.6980 - val_accuracy: 0.4000\n",
      "Epoch 44/100\n",
      "3/3 [==============================] - 0s 28ms/step - loss: 0.6923 - accuracy: 0.5250 - val_loss: 0.6982 - val_accuracy: 0.4000\n",
      "Epoch 45/100\n",
      "3/3 [==============================] - 0s 24ms/step - loss: 0.6922 - accuracy: 0.5250 - val_loss: 0.6983 - val_accuracy: 0.4000\n",
      "Epoch 46/100\n",
      "3/3 [==============================] - 0s 29ms/step - loss: 0.6922 - accuracy: 0.5250 - val_loss: 0.6985 - val_accuracy: 0.4000\n",
      "Epoch 47/100\n",
      "3/3 [==============================] - 0s 20ms/step - loss: 0.6922 - accuracy: 0.5250 - val_loss: 0.6986 - val_accuracy: 0.4000\n",
      "Epoch 48/100\n",
      "3/3 [==============================] - 0s 20ms/step - loss: 0.6921 - accuracy: 0.5250 - val_loss: 0.6988 - val_accuracy: 0.4000\n",
      "Epoch 49/100\n",
      "3/3 [==============================] - 0s 24ms/step - loss: 0.6921 - accuracy: 0.5250 - val_loss: 0.6989 - val_accuracy: 0.4000\n",
      "Epoch 50/100\n",
      "3/3 [==============================] - 0s 28ms/step - loss: 0.6921 - accuracy: 0.5250 - val_loss: 0.6991 - val_accuracy: 0.4000\n",
      "Epoch 51/100\n",
      "3/3 [==============================] - 0s 28ms/step - loss: 0.6921 - accuracy: 0.5250 - val_loss: 0.6992 - val_accuracy: 0.4000\n",
      "Epoch 52/100\n",
      "3/3 [==============================] - 0s 28ms/step - loss: 0.6921 - accuracy: 0.5250 - val_loss: 0.6993 - val_accuracy: 0.4000\n",
      "Epoch 53/100\n",
      "3/3 [==============================] - 0s 24ms/step - loss: 0.6921 - accuracy: 0.5250 - val_loss: 0.6995 - val_accuracy: 0.4000\n",
      "Epoch 54/100\n",
      "3/3 [==============================] - 0s 24ms/step - loss: 0.6920 - accuracy: 0.5250 - val_loss: 0.6995 - val_accuracy: 0.4000\n",
      "Epoch 55/100\n",
      "3/3 [==============================] - 0s 20ms/step - loss: 0.6920 - accuracy: 0.5250 - val_loss: 0.6996 - val_accuracy: 0.4000\n",
      "Epoch 56/100\n",
      "3/3 [==============================] - 0s 20ms/step - loss: 0.6921 - accuracy: 0.5250 - val_loss: 0.6996 - val_accuracy: 0.4000\n",
      "Epoch 57/100\n",
      "3/3 [==============================] - 0s 20ms/step - loss: 0.6920 - accuracy: 0.5250 - val_loss: 0.6998 - val_accuracy: 0.4000\n",
      "Epoch 58/100\n",
      "3/3 [==============================] - 0s 20ms/step - loss: 0.6920 - accuracy: 0.5250 - val_loss: 0.7000 - val_accuracy: 0.4000\n",
      "Epoch 59/100\n"
     ]
    },
    {
     "name": "stdout",
     "output_type": "stream",
     "text": [
      "3/3 [==============================] - 0s 24ms/step - loss: 0.6920 - accuracy: 0.5250 - val_loss: 0.7001 - val_accuracy: 0.4000\n",
      "Epoch 60/100\n",
      "3/3 [==============================] - 0s 19ms/step - loss: 0.6920 - accuracy: 0.5250 - val_loss: 0.7002 - val_accuracy: 0.4000\n",
      "Epoch 61/100\n",
      "3/3 [==============================] - 0s 20ms/step - loss: 0.6919 - accuracy: 0.5250 - val_loss: 0.7003 - val_accuracy: 0.4000\n",
      "Epoch 62/100\n",
      "3/3 [==============================] - 0s 20ms/step - loss: 0.6919 - accuracy: 0.5250 - val_loss: 0.7004 - val_accuracy: 0.4000\n",
      "Epoch 63/100\n",
      "3/3 [==============================] - 0s 20ms/step - loss: 0.6919 - accuracy: 0.5250 - val_loss: 0.7004 - val_accuracy: 0.4000\n",
      "Epoch 64/100\n",
      "3/3 [==============================] - 0s 20ms/step - loss: 0.6919 - accuracy: 0.5250 - val_loss: 0.7004 - val_accuracy: 0.4000\n",
      "Epoch 65/100\n",
      "3/3 [==============================] - 0s 21ms/step - loss: 0.6919 - accuracy: 0.5250 - val_loss: 0.7005 - val_accuracy: 0.4000\n",
      "Epoch 66/100\n",
      "3/3 [==============================] - 0s 21ms/step - loss: 0.6919 - accuracy: 0.5250 - val_loss: 0.7004 - val_accuracy: 0.4000\n",
      "Epoch 67/100\n",
      "3/3 [==============================] - 0s 20ms/step - loss: 0.6919 - accuracy: 0.5250 - val_loss: 0.7004 - val_accuracy: 0.4000\n",
      "Epoch 68/100\n",
      "3/3 [==============================] - 0s 20ms/step - loss: 0.6919 - accuracy: 0.5250 - val_loss: 0.7005 - val_accuracy: 0.4000\n",
      "Epoch 69/100\n",
      "3/3 [==============================] - 0s 24ms/step - loss: 0.6919 - accuracy: 0.5250 - val_loss: 0.7007 - val_accuracy: 0.4000\n",
      "Epoch 70/100\n",
      "3/3 [==============================] - 0s 24ms/step - loss: 0.6918 - accuracy: 0.5250 - val_loss: 0.7008 - val_accuracy: 0.4000\n",
      "Epoch 71/100\n",
      "3/3 [==============================] - 0s 24ms/step - loss: 0.6919 - accuracy: 0.5250 - val_loss: 0.7009 - val_accuracy: 0.4000\n",
      "Epoch 72/100\n",
      "3/3 [==============================] - 0s 24ms/step - loss: 0.6918 - accuracy: 0.5250 - val_loss: 0.7010 - val_accuracy: 0.4000\n",
      "Epoch 73/100\n",
      "3/3 [==============================] - 0s 24ms/step - loss: 0.6918 - accuracy: 0.5250 - val_loss: 0.7010 - val_accuracy: 0.4000\n",
      "Epoch 74/100\n",
      "3/3 [==============================] - 0s 24ms/step - loss: 0.6918 - accuracy: 0.5250 - val_loss: 0.7010 - val_accuracy: 0.4000\n",
      "Epoch 75/100\n",
      "3/3 [==============================] - 0s 20ms/step - loss: 0.6918 - accuracy: 0.5250 - val_loss: 0.7011 - val_accuracy: 0.4000\n",
      "Epoch 76/100\n",
      "3/3 [==============================] - 0s 24ms/step - loss: 0.6918 - accuracy: 0.5250 - val_loss: 0.7013 - val_accuracy: 0.4000\n",
      "Epoch 77/100\n",
      "3/3 [==============================] - 0s 20ms/step - loss: 0.6917 - accuracy: 0.5250 - val_loss: 0.7013 - val_accuracy: 0.4000\n",
      "Epoch 78/100\n",
      "3/3 [==============================] - 0s 25ms/step - loss: 0.6917 - accuracy: 0.5250 - val_loss: 0.7014 - val_accuracy: 0.4000\n",
      "Epoch 79/100\n",
      "3/3 [==============================] - 0s 24ms/step - loss: 0.6917 - accuracy: 0.5250 - val_loss: 0.7016 - val_accuracy: 0.4000\n",
      "Epoch 80/100\n",
      "3/3 [==============================] - 0s 20ms/step - loss: 0.6917 - accuracy: 0.5250 - val_loss: 0.7016 - val_accuracy: 0.4000\n",
      "Epoch 81/100\n",
      "3/3 [==============================] - 0s 20ms/step - loss: 0.6916 - accuracy: 0.5250 - val_loss: 0.7016 - val_accuracy: 0.4000\n",
      "Epoch 82/100\n",
      "3/3 [==============================] - 0s 24ms/step - loss: 0.6916 - accuracy: 0.5250 - val_loss: 0.7018 - val_accuracy: 0.4000\n",
      "Epoch 83/100\n",
      "3/3 [==============================] - 0s 24ms/step - loss: 0.6916 - accuracy: 0.5250 - val_loss: 0.7019 - val_accuracy: 0.4000\n",
      "Epoch 84/100\n",
      "3/3 [==============================] - 0s 24ms/step - loss: 0.6916 - accuracy: 0.5250 - val_loss: 0.7020 - val_accuracy: 0.4000\n",
      "Epoch 85/100\n",
      "3/3 [==============================] - 0s 20ms/step - loss: 0.6916 - accuracy: 0.5250 - val_loss: 0.7020 - val_accuracy: 0.4000\n",
      "Epoch 86/100\n",
      "3/3 [==============================] - 0s 20ms/step - loss: 0.6916 - accuracy: 0.5250 - val_loss: 0.7020 - val_accuracy: 0.4000\n",
      "Epoch 87/100\n",
      "3/3 [==============================] - 0s 20ms/step - loss: 0.6915 - accuracy: 0.5250 - val_loss: 0.7020 - val_accuracy: 0.4000\n",
      "Epoch 88/100\n",
      "3/3 [==============================] - 0s 20ms/step - loss: 0.6915 - accuracy: 0.5250 - val_loss: 0.7020 - val_accuracy: 0.4000\n",
      "Epoch 89/100\n",
      "3/3 [==============================] - 0s 24ms/step - loss: 0.6915 - accuracy: 0.5250 - val_loss: 0.7021 - val_accuracy: 0.4000\n",
      "Epoch 90/100\n",
      "3/3 [==============================] - 0s 24ms/step - loss: 0.6915 - accuracy: 0.5250 - val_loss: 0.7022 - val_accuracy: 0.4000\n",
      "Epoch 91/100\n",
      "3/3 [==============================] - 0s 24ms/step - loss: 0.6915 - accuracy: 0.5250 - val_loss: 0.7023 - val_accuracy: 0.4000\n",
      "Epoch 92/100\n",
      "3/3 [==============================] - 0s 24ms/step - loss: 0.6915 - accuracy: 0.5250 - val_loss: 0.7025 - val_accuracy: 0.4000\n",
      "Epoch 93/100\n",
      "3/3 [==============================] - 0s 20ms/step - loss: 0.6914 - accuracy: 0.5250 - val_loss: 0.7025 - val_accuracy: 0.4000\n",
      "Epoch 94/100\n",
      "3/3 [==============================] - 0s 24ms/step - loss: 0.6914 - accuracy: 0.5250 - val_loss: 0.7024 - val_accuracy: 0.4000\n",
      "Epoch 95/100\n",
      "3/3 [==============================] - 0s 20ms/step - loss: 0.6914 - accuracy: 0.5250 - val_loss: 0.7025 - val_accuracy: 0.4000\n",
      "Epoch 96/100\n",
      "3/3 [==============================] - 0s 20ms/step - loss: 0.6913 - accuracy: 0.5250 - val_loss: 0.7026 - val_accuracy: 0.4000\n",
      "Epoch 97/100\n",
      "3/3 [==============================] - 0s 24ms/step - loss: 0.6913 - accuracy: 0.5250 - val_loss: 0.7027 - val_accuracy: 0.4000\n",
      "Epoch 98/100\n",
      "3/3 [==============================] - 0s 28ms/step - loss: 0.6913 - accuracy: 0.5250 - val_loss: 0.7028 - val_accuracy: 0.4000\n",
      "Epoch 99/100\n",
      "3/3 [==============================] - 0s 24ms/step - loss: 0.6913 - accuracy: 0.5250 - val_loss: 0.7030 - val_accuracy: 0.4000\n",
      "Epoch 100/100\n",
      "3/3 [==============================] - 0s 20ms/step - loss: 0.6912 - accuracy: 0.5250 - val_loss: 0.7030 - val_accuracy: 0.4000\n"
     ]
    }
   ],
   "source": [
    "# setting Zero weights\n",
    "\n",
    "model2.set_weights(initial_weights)\n",
    "\n",
    "# trainning models\n",
    "\n",
    "history = model2.fit(X,y,epochs=100,validation_split=0.2)"
   ]
  },
  {
   "cell_type": "code",
   "execution_count": 74,
   "id": "ab2d45ac",
   "metadata": {},
   "outputs": [
    {
     "data": {
      "text/plain": [
       "[array([[-0.4645544 , -0.4645544 , -0.4645544 , -0.4645544 ],\n",
       "        [ 0.47429076,  0.47429076,  0.47429076,  0.47429076]],\n",
       "       dtype=float32),\n",
       " array([0.04845611, 0.04845611, 0.04845611, 0.04845611], dtype=float32),\n",
       " array([[0.18065, 0.18065],\n",
       "        [0.18065, 0.18065],\n",
       "        [0.18065, 0.18065],\n",
       "        [0.18065, 0.18065]], dtype=float32),\n",
       " array([0.03976117, 0.03976117], dtype=float32),\n",
       " array([[-0.049199],\n",
       "        [-0.049199]], dtype=float32),\n",
       " array([-0.03871965], dtype=float32)]"
      ]
     },
     "execution_count": 74,
     "metadata": {},
     "output_type": "execute_result"
    }
   ],
   "source": [
    "model2.get_weights()"
   ]
  },
  {
   "cell_type": "markdown",
   "id": "51403d96",
   "metadata": {},
   "source": [
    "- model did not learn and it will behave as linear model"
   ]
  },
  {
   "cell_type": "code",
   "execution_count": 75,
   "id": "0a6eaa57",
   "metadata": {},
   "outputs": [
    {
     "name": "stdout",
     "output_type": "stream",
     "text": [
      "12960/12960 [==============================] - 22s 2ms/step\n"
     ]
    },
    {
     "data": {
      "text/plain": [
       "<AxesSubplot:>"
      ]
     },
     "execution_count": 75,
     "metadata": {},
     "output_type": "execute_result"
    },
    {
     "data": {
      "image/png": "[encoded data removed]",
      "text/plain": [
       "<Figure size 720x576 with 1 Axes>"
      ]
     },
     "metadata": {
      "needs_background": "light"
     },
     "output_type": "display_data"
    }
   ],
   "source": [
    "# Plotting Decision Regions\n",
    "\n",
    "plot_decision_regions(X,y, clf=model2)"
   ]
  },
  {
   "cell_type": "markdown",
   "id": "d2534847",
   "metadata": {},
   "source": [
    "- Free AI Tool for above Expirenment\n",
    "- link : https://www.deeplearning.ai/ai-notes/initialization/"
   ]
  },
  {
   "cell_type": "code",
   "execution_count": null,
   "id": "9a689ace",
   "metadata": {},
   "outputs": [],
   "source": []
  }
 ],
 "metadata": {
  "kernelspec": {
   "display_name": "Python 3 (ipykernel)",
   "language": "python",
   "name": "python3"
  },
  "language_info": {
   "codemirror_mode": {
    "name": "ipython",
    "version": 3
   },
   "file_extension": ".py",
   "mimetype": "text/x-python",
   "name": "python",
   "nbconvert_exporter": "python",
   "pygments_lexer": "ipython3",
   "version": "3.9.7"
  }
 },
 "nbformat": 4,
 "nbformat_minor": 5
}
