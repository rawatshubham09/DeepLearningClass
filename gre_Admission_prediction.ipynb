{
 "cells": [
  {
   "cell_type": "code",
   "execution_count": 9,
   "id": "bcb8535a",
   "metadata": {},
   "outputs": [],
   "source": [
    "import pandas as pd\n",
    "import numpy as np\n",
    "import matplotlib.pyplot as plt\n",
    "import seaborn as sns\n",
    "\n",
    "import tensorflow\n",
    "from tensorflow import keras\n",
    "from tensorflow.keras import Sequential\n",
    "from tensorflow.keras.layers import Dense\n",
    "\n",
    "from sklearn.preprocessing import MinMaxScaler\n",
    "from sklearn.model_selection import train_test_split"
   ]
  },
  {
   "cell_type": "code",
   "execution_count": 3,
   "id": "0fd66d04",
   "metadata": {},
   "outputs": [
    {
     "data": {
      "text/html": [
       "<div>\n",
       "<style scoped>\n",
       "    .dataframe tbody tr th:only-of-type {\n",
       "        vertical-align: middle;\n",
       "    }\n",
       "\n",
       "    .dataframe tbody tr th {\n",
       "        vertical-align: top;\n",
       "    }\n",
       "\n",
       "    .dataframe thead th {\n",
       "        text-align: right;\n",
       "    }\n",
       "</style>\n",
       "<table border=\"1\" class=\"dataframe\">\n",
       "  <thead>\n",
       "    <tr style=\"text-align: right;\">\n",
       "      <th></th>\n",
       "      <th>Serial No.</th>\n",
       "      <th>GRE Score</th>\n",
       "      <th>TOEFL Score</th>\n",
       "      <th>University Rating</th>\n",
       "      <th>SOP</th>\n",
       "      <th>LOR</th>\n",
       "      <th>CGPA</th>\n",
       "      <th>Research</th>\n",
       "      <th>Chance of Admit</th>\n",
       "    </tr>\n",
       "  </thead>\n",
       "  <tbody>\n",
       "    <tr>\n",
       "      <th>0</th>\n",
       "      <td>1</td>\n",
       "      <td>337</td>\n",
       "      <td>118</td>\n",
       "      <td>4</td>\n",
       "      <td>4.5</td>\n",
       "      <td>4.5</td>\n",
       "      <td>9.65</td>\n",
       "      <td>1</td>\n",
       "      <td>0.92</td>\n",
       "    </tr>\n",
       "    <tr>\n",
       "      <th>1</th>\n",
       "      <td>2</td>\n",
       "      <td>324</td>\n",
       "      <td>107</td>\n",
       "      <td>4</td>\n",
       "      <td>4.0</td>\n",
       "      <td>4.5</td>\n",
       "      <td>8.87</td>\n",
       "      <td>1</td>\n",
       "      <td>0.76</td>\n",
       "    </tr>\n",
       "    <tr>\n",
       "      <th>2</th>\n",
       "      <td>3</td>\n",
       "      <td>316</td>\n",
       "      <td>104</td>\n",
       "      <td>3</td>\n",
       "      <td>3.0</td>\n",
       "      <td>3.5</td>\n",
       "      <td>8.00</td>\n",
       "      <td>1</td>\n",
       "      <td>0.72</td>\n",
       "    </tr>\n",
       "    <tr>\n",
       "      <th>3</th>\n",
       "      <td>4</td>\n",
       "      <td>322</td>\n",
       "      <td>110</td>\n",
       "      <td>3</td>\n",
       "      <td>3.5</td>\n",
       "      <td>2.5</td>\n",
       "      <td>8.67</td>\n",
       "      <td>1</td>\n",
       "      <td>0.80</td>\n",
       "    </tr>\n",
       "  </tbody>\n",
       "</table>\n",
       "</div>"
      ],
      "text/plain": [
       "   Serial No.  GRE Score  TOEFL Score  University Rating  SOP  LOR   CGPA  Research  Chance of Admit \n",
       "0           1        337          118                  4  4.5   4.5  9.65         1              0.92\n",
       "1           2        324          107                  4  4.0   4.5  8.87         1              0.76\n",
       "2           3        316          104                  3  3.0   3.5  8.00         1              0.72\n",
       "3           4        322          110                  3  3.5   2.5  8.67         1              0.80"
      ]
     },
     "execution_count": 3,
     "metadata": {},
     "output_type": "execute_result"
    }
   ],
   "source": [
    "df = pd.read_csv(\"Dataset/Admission_Predict_Ver1.1.csv\")\n",
    "df.head(4)"
   ]
  },
  {
   "cell_type": "code",
   "execution_count": 4,
   "id": "d4265f05",
   "metadata": {},
   "outputs": [
    {
     "data": {
      "text/plain": [
       "(500, 9)"
      ]
     },
     "execution_count": 4,
     "metadata": {},
     "output_type": "execute_result"
    }
   ],
   "source": [
    "df.shape"
   ]
  },
  {
   "cell_type": "code",
   "execution_count": 5,
   "id": "ed1735ab",
   "metadata": {},
   "outputs": [
    {
     "name": "stdout",
     "output_type": "stream",
     "text": [
      "<class 'pandas.core.frame.DataFrame'>\n",
      "RangeIndex: 500 entries, 0 to 499\n",
      "Data columns (total 9 columns):\n",
      " #   Column             Non-Null Count  Dtype  \n",
      "---  ------             --------------  -----  \n",
      " 0   Serial No.         500 non-null    int64  \n",
      " 1   GRE Score          500 non-null    int64  \n",
      " 2   TOEFL Score        500 non-null    int64  \n",
      " 3   University Rating  500 non-null    int64  \n",
      " 4   SOP                500 non-null    float64\n",
      " 5   LOR                500 non-null    float64\n",
      " 6   CGPA               500 non-null    float64\n",
      " 7   Research           500 non-null    int64  \n",
      " 8   Chance of Admit    500 non-null    float64\n",
      "dtypes: float64(4), int64(5)\n",
      "memory usage: 35.3 KB\n"
     ]
    }
   ],
   "source": [
    "df.info()"
   ]
  },
  {
   "cell_type": "code",
   "execution_count": 6,
   "id": "da490728",
   "metadata": {},
   "outputs": [
    {
     "data": {
      "text/plain": [
       "0"
      ]
     },
     "execution_count": 6,
     "metadata": {},
     "output_type": "execute_result"
    }
   ],
   "source": [
    "df.duplicated().sum()"
   ]
  },
  {
   "cell_type": "code",
   "execution_count": 7,
   "id": "077f2758",
   "metadata": {},
   "outputs": [],
   "source": [
    "# Droping serial no.\n",
    "df.drop(\"Serial No.\", axis=1, inplace=True)"
   ]
  },
  {
   "cell_type": "code",
   "execution_count": 10,
   "id": "da8595a1",
   "metadata": {},
   "outputs": [],
   "source": [
    "# Creating Object of MinMaxScaler\n",
    "ms = MinMaxScaler()"
   ]
  },
  {
   "cell_type": "code",
   "execution_count": 12,
   "id": "aab12e76",
   "metadata": {},
   "outputs": [
    {
     "data": {
      "text/plain": [
       "Index(['GRE Score', 'TOEFL Score', 'University Rating', 'SOP', 'LOR ', 'CGPA',\n",
       "       'Research', 'Chance of Admit '],\n",
       "      dtype='object')"
      ]
     },
     "execution_count": 12,
     "metadata": {},
     "output_type": "execute_result"
    }
   ],
   "source": [
    "df.columns"
   ]
  },
  {
   "cell_type": "code",
   "execution_count": 13,
   "id": "d57b2405",
   "metadata": {},
   "outputs": [
    {
     "data": {
      "text/plain": [
       "((400, 7), (100, 7))"
      ]
     },
     "execution_count": 13,
     "metadata": {},
     "output_type": "execute_result"
    }
   ],
   "source": [
    "# Splitting Test and Train data Before PreProcessing\n",
    "X = df.drop('Chance of Admit ', axis=1)\n",
    "y = df['Chance of Admit ']\n",
    "\n",
    "X_train, X_test, y_train,y_test = train_test_split(X,y,test_size=0.2,random_state=123)\n",
    "X_train.shape, X_test.shape"
   ]
  },
  {
   "cell_type": "code",
   "execution_count": 14,
   "id": "3b86954b",
   "metadata": {},
   "outputs": [],
   "source": [
    "# Transform data\n",
    "X_train_scaler = ms.fit_transform(X_train)\n",
    "X_test_scaler = ms.transform(X_test)"
   ]
  },
  {
   "cell_type": "code",
   "execution_count": 15,
   "id": "05cf990d",
   "metadata": {},
   "outputs": [
    {
     "data": {
      "text/plain": [
       "array([0.46      , 0.51851852, 0.5       , 0.75      , 0.875     ,\n",
       "       0.60576923, 0.        ])"
      ]
     },
     "execution_count": 15,
     "metadata": {},
     "output_type": "execute_result"
    }
   ],
   "source": [
    "X_train_scaler[0]"
   ]
  },
  {
   "cell_type": "code",
   "execution_count": 43,
   "id": "34fef0ea",
   "metadata": {},
   "outputs": [],
   "source": [
    "# Creating ANN Model\n",
    "model = Sequential()\n",
    "\n",
    "model.add(Dense(12, activation='relu', input_dim=7))\n",
    "model.add(Dense(7, activation='relu'))\n",
    "model.add(Dense(1, activation='linear'))"
   ]
  },
  {
   "cell_type": "code",
   "execution_count": 44,
   "id": "eaeddbae",
   "metadata": {},
   "outputs": [
    {
     "name": "stdout",
     "output_type": "stream",
     "text": [
      "Model: \"sequential_1\"\n",
      "_________________________________________________________________\n",
      " Layer (type)                Output Shape              Param #   \n",
      "=================================================================\n",
      " dense_3 (Dense)             (None, 12)                96        \n",
      "                                                                 \n",
      " dense_4 (Dense)             (None, 7)                 91        \n",
      "                                                                 \n",
      " dense_5 (Dense)             (None, 1)                 8         \n",
      "                                                                 \n",
      "=================================================================\n",
      "Total params: 195\n",
      "Trainable params: 195\n",
      "Non-trainable params: 0\n",
      "_________________________________________________________________\n"
     ]
    }
   ],
   "source": [
    "model.summary()"
   ]
  },
  {
   "cell_type": "code",
   "execution_count": 45,
   "id": "e2521622",
   "metadata": {},
   "outputs": [],
   "source": [
    "model.compile(loss=\"mean_squared_error\", optimizer='Adam', metrics=[\"mse\"])"
   ]
  },
  {
   "cell_type": "code",
   "execution_count": 46,
   "id": "7e769373",
   "metadata": {},
   "outputs": [
    {
     "name": "stdout",
     "output_type": "stream",
     "text": [
      "Epoch 1/55\n",
      "10/10 [==============================] - 1s 23ms/step - loss: 0.7289 - mse: 0.7289 - val_loss: 0.6451 - val_mse: 0.6451\n",
      "Epoch 2/55\n",
      "10/10 [==============================] - 0s 6ms/step - loss: 0.5698 - mse: 0.5698 - val_loss: 0.5146 - val_mse: 0.5146\n",
      "Epoch 3/55\n",
      "10/10 [==============================] - 0s 6ms/step - loss: 0.4645 - mse: 0.4645 - val_loss: 0.4390 - val_mse: 0.4390\n",
      "Epoch 4/55\n",
      "10/10 [==============================] - 0s 7ms/step - loss: 0.3886 - mse: 0.3886 - val_loss: 0.3563 - val_mse: 0.3563\n",
      "Epoch 5/55\n",
      "10/10 [==============================] - 0s 6ms/step - loss: 0.2646 - mse: 0.2646 - val_loss: 0.1820 - val_mse: 0.1820\n",
      "Epoch 6/55\n",
      "10/10 [==============================] - 0s 7ms/step - loss: 0.0958 - mse: 0.0958 - val_loss: 0.0306 - val_mse: 0.0306\n",
      "Epoch 7/55\n",
      "10/10 [==============================] - 0s 6ms/step - loss: 0.0193 - mse: 0.0193 - val_loss: 0.0157 - val_mse: 0.0157\n",
      "Epoch 8/55\n",
      "10/10 [==============================] - 0s 6ms/step - loss: 0.0223 - mse: 0.0223 - val_loss: 0.0145 - val_mse: 0.0145\n",
      "Epoch 9/55\n",
      "10/10 [==============================] - 0s 7ms/step - loss: 0.0150 - mse: 0.0150 - val_loss: 0.0090 - val_mse: 0.0090\n",
      "Epoch 10/55\n",
      "10/10 [==============================] - 0s 6ms/step - loss: 0.0110 - mse: 0.0110 - val_loss: 0.0093 - val_mse: 0.0093\n",
      "Epoch 11/55\n",
      "10/10 [==============================] - 0s 6ms/step - loss: 0.0099 - mse: 0.0099 - val_loss: 0.0075 - val_mse: 0.0075\n",
      "Epoch 12/55\n",
      "10/10 [==============================] - 0s 6ms/step - loss: 0.0086 - mse: 0.0086 - val_loss: 0.0063 - val_mse: 0.0063\n",
      "Epoch 13/55\n",
      "10/10 [==============================] - 0s 6ms/step - loss: 0.0079 - mse: 0.0079 - val_loss: 0.0060 - val_mse: 0.0060\n",
      "Epoch 14/55\n",
      "10/10 [==============================] - 0s 6ms/step - loss: 0.0074 - mse: 0.0074 - val_loss: 0.0058 - val_mse: 0.0058\n",
      "Epoch 15/55\n",
      "10/10 [==============================] - 0s 7ms/step - loss: 0.0071 - mse: 0.0071 - val_loss: 0.0057 - val_mse: 0.0057\n",
      "Epoch 16/55\n",
      "10/10 [==============================] - 0s 6ms/step - loss: 0.0068 - mse: 0.0068 - val_loss: 0.0055 - val_mse: 0.0055\n",
      "Epoch 17/55\n",
      "10/10 [==============================] - 0s 7ms/step - loss: 0.0066 - mse: 0.0066 - val_loss: 0.0054 - val_mse: 0.0054\n",
      "Epoch 18/55\n",
      "10/10 [==============================] - 0s 7ms/step - loss: 0.0064 - mse: 0.0064 - val_loss: 0.0054 - val_mse: 0.0054\n",
      "Epoch 19/55\n",
      "10/10 [==============================] - 0s 6ms/step - loss: 0.0063 - mse: 0.0063 - val_loss: 0.0053 - val_mse: 0.0053\n",
      "Epoch 20/55\n",
      "10/10 [==============================] - 0s 6ms/step - loss: 0.0061 - mse: 0.0061 - val_loss: 0.0052 - val_mse: 0.0052\n",
      "Epoch 21/55\n",
      "10/10 [==============================] - 0s 6ms/step - loss: 0.0060 - mse: 0.0060 - val_loss: 0.0052 - val_mse: 0.0052\n",
      "Epoch 22/55\n",
      "10/10 [==============================] - 0s 7ms/step - loss: 0.0059 - mse: 0.0059 - val_loss: 0.0051 - val_mse: 0.0051\n",
      "Epoch 23/55\n",
      "10/10 [==============================] - 0s 6ms/step - loss: 0.0058 - mse: 0.0058 - val_loss: 0.0050 - val_mse: 0.0050\n",
      "Epoch 24/55\n",
      "10/10 [==============================] - 0s 6ms/step - loss: 0.0057 - mse: 0.0057 - val_loss: 0.0050 - val_mse: 0.0050\n",
      "Epoch 25/55\n",
      "10/10 [==============================] - 0s 7ms/step - loss: 0.0056 - mse: 0.0056 - val_loss: 0.0050 - val_mse: 0.0050\n",
      "Epoch 26/55\n",
      "10/10 [==============================] - 0s 7ms/step - loss: 0.0055 - mse: 0.0055 - val_loss: 0.0050 - val_mse: 0.0050\n",
      "Epoch 27/55\n",
      "10/10 [==============================] - 0s 7ms/step - loss: 0.0055 - mse: 0.0055 - val_loss: 0.0049 - val_mse: 0.0049\n",
      "Epoch 28/55\n",
      "10/10 [==============================] - 0s 16ms/step - loss: 0.0053 - mse: 0.0053 - val_loss: 0.0049 - val_mse: 0.0049\n",
      "Epoch 29/55\n",
      "10/10 [==============================] - 0s 8ms/step - loss: 0.0053 - mse: 0.0053 - val_loss: 0.0049 - val_mse: 0.0049\n",
      "Epoch 30/55\n",
      "10/10 [==============================] - 0s 7ms/step - loss: 0.0053 - mse: 0.0053 - val_loss: 0.0048 - val_mse: 0.0048\n",
      "Epoch 31/55\n",
      "10/10 [==============================] - 0s 6ms/step - loss: 0.0052 - mse: 0.0052 - val_loss: 0.0049 - val_mse: 0.0049\n",
      "Epoch 32/55\n",
      "10/10 [==============================] - 0s 6ms/step - loss: 0.0052 - mse: 0.0052 - val_loss: 0.0047 - val_mse: 0.0047\n",
      "Epoch 33/55\n",
      "10/10 [==============================] - 0s 6ms/step - loss: 0.0051 - mse: 0.0051 - val_loss: 0.0049 - val_mse: 0.0049\n",
      "Epoch 34/55\n",
      "10/10 [==============================] - 0s 7ms/step - loss: 0.0050 - mse: 0.0050 - val_loss: 0.0047 - val_mse: 0.0047\n",
      "Epoch 35/55\n",
      "10/10 [==============================] - 0s 6ms/step - loss: 0.0049 - mse: 0.0049 - val_loss: 0.0047 - val_mse: 0.0047\n",
      "Epoch 36/55\n",
      "10/10 [==============================] - 0s 6ms/step - loss: 0.0049 - mse: 0.0049 - val_loss: 0.0047 - val_mse: 0.0047\n",
      "Epoch 37/55\n",
      "10/10 [==============================] - 0s 6ms/step - loss: 0.0049 - mse: 0.0049 - val_loss: 0.0046 - val_mse: 0.0046\n",
      "Epoch 38/55\n",
      "10/10 [==============================] - 0s 6ms/step - loss: 0.0048 - mse: 0.0048 - val_loss: 0.0047 - val_mse: 0.0047\n",
      "Epoch 39/55\n",
      "10/10 [==============================] - 0s 5ms/step - loss: 0.0048 - mse: 0.0048 - val_loss: 0.0046 - val_mse: 0.0046\n",
      "Epoch 40/55\n",
      "10/10 [==============================] - 0s 7ms/step - loss: 0.0047 - mse: 0.0047 - val_loss: 0.0046 - val_mse: 0.0046\n",
      "Epoch 41/55\n",
      "10/10 [==============================] - 0s 8ms/step - loss: 0.0047 - mse: 0.0047 - val_loss: 0.0046 - val_mse: 0.0046\n",
      "Epoch 42/55\n",
      "10/10 [==============================] - 0s 7ms/step - loss: 0.0047 - mse: 0.0047 - val_loss: 0.0046 - val_mse: 0.0046\n",
      "Epoch 43/55\n",
      "10/10 [==============================] - 0s 6ms/step - loss: 0.0046 - mse: 0.0046 - val_loss: 0.0046 - val_mse: 0.0046\n",
      "Epoch 44/55\n",
      "10/10 [==============================] - 0s 6ms/step - loss: 0.0046 - mse: 0.0046 - val_loss: 0.0045 - val_mse: 0.0045\n",
      "Epoch 45/55\n",
      "10/10 [==============================] - 0s 7ms/step - loss: 0.0046 - mse: 0.0046 - val_loss: 0.0046 - val_mse: 0.0046\n",
      "Epoch 46/55\n",
      "10/10 [==============================] - 0s 7ms/step - loss: 0.0045 - mse: 0.0045 - val_loss: 0.0045 - val_mse: 0.0045\n",
      "Epoch 47/55\n",
      "10/10 [==============================] - 0s 6ms/step - loss: 0.0045 - mse: 0.0045 - val_loss: 0.0045 - val_mse: 0.0045\n",
      "Epoch 48/55\n",
      "10/10 [==============================] - 0s 6ms/step - loss: 0.0045 - mse: 0.0045 - val_loss: 0.0045 - val_mse: 0.0045\n",
      "Epoch 49/55\n",
      "10/10 [==============================] - 0s 7ms/step - loss: 0.0045 - mse: 0.0045 - val_loss: 0.0045 - val_mse: 0.0045\n",
      "Epoch 50/55\n",
      "10/10 [==============================] - 0s 7ms/step - loss: 0.0044 - mse: 0.0044 - val_loss: 0.0044 - val_mse: 0.0044\n",
      "Epoch 51/55\n",
      "10/10 [==============================] - 0s 7ms/step - loss: 0.0044 - mse: 0.0044 - val_loss: 0.0045 - val_mse: 0.0045\n",
      "Epoch 52/55\n",
      "10/10 [==============================] - 0s 7ms/step - loss: 0.0044 - mse: 0.0044 - val_loss: 0.0044 - val_mse: 0.0044\n",
      "Epoch 53/55\n",
      "10/10 [==============================] - 0s 8ms/step - loss: 0.0044 - mse: 0.0044 - val_loss: 0.0044 - val_mse: 0.0044\n",
      "Epoch 54/55\n",
      "10/10 [==============================] - 0s 6ms/step - loss: 0.0043 - mse: 0.0043 - val_loss: 0.0044 - val_mse: 0.0044\n",
      "Epoch 55/55\n",
      "10/10 [==============================] - 0s 6ms/step - loss: 0.0043 - mse: 0.0043 - val_loss: 0.0044 - val_mse: 0.0044\n"
     ]
    }
   ],
   "source": [
    "history = model.fit(X_train_scaler, y_train, validation_split=0.2,epochs=55)"
   ]
  },
  {
   "cell_type": "code",
   "execution_count": 47,
   "id": "4a27ebd8",
   "metadata": {},
   "outputs": [
    {
     "data": {
      "text/plain": [
       "[<matplotlib.lines.Line2D at 0x16f92902a90>]"
      ]
     },
     "execution_count": 47,
     "metadata": {},
     "output_type": "execute_result"
    },
    {
     "data": {
      "image/png": "[encoded data removed]",
      "text/plain": [
       "<Figure size 432x288 with 1 Axes>"
      ]
     },
     "metadata": {
      "needs_background": "light"
     },
     "output_type": "display_data"
    }
   ],
   "source": [
    "plt.plot(history.history[\"loss\"])\n",
    "plt.plot(history.history[\"val_loss\"])"
   ]
  },
  {
   "cell_type": "code",
   "execution_count": 48,
   "id": "ad3d4225",
   "metadata": {},
   "outputs": [
    {
     "data": {
      "text/plain": [
       "[<matplotlib.lines.Line2D at 0x16f92950d30>]"
      ]
     },
     "execution_count": 48,
     "metadata": {},
     "output_type": "execute_result"
    },
    {
     "data": {
      "image/png": "[encoded data removed]",
      "text/plain": [
       "<Figure size 432x288 with 1 Axes>"
      ]
     },
     "metadata": {
      "needs_background": "light"
     },
     "output_type": "display_data"
    }
   ],
   "source": [
    "plt.plot(history.history[\"mse\"])\n",
    "plt.plot(history.history[\"val_mse\"])"
   ]
  },
  {
   "cell_type": "code",
   "execution_count": 49,
   "id": "3b043ebb",
   "metadata": {},
   "outputs": [
    {
     "name": "stdout",
     "output_type": "stream",
     "text": [
      "4/4 [==============================] - 0s 3ms/step\n"
     ]
    }
   ],
   "source": [
    "# Predicting output we have\n",
    "y_pred = model.predict(X_test_scaler)"
   ]
  },
  {
   "cell_type": "code",
   "execution_count": 50,
   "id": "489d3d93",
   "metadata": {},
   "outputs": [
    {
     "data": {
      "text/plain": [
       "0.7102733393006866"
      ]
     },
     "execution_count": 50,
     "metadata": {},
     "output_type": "execute_result"
    }
   ],
   "source": [
    "from sklearn.metrics import r2_score\n",
    "r2_score(y_test, y_pred)"
   ]
  },
  {
   "cell_type": "code",
   "execution_count": null,
   "id": "a5d372aa",
   "metadata": {},
   "outputs": [],
   "source": []
  }
 ],
 "metadata": {
  "kernelspec": {
   "display_name": "Python 3 (ipykernel)",
   "language": "python",
   "name": "python3"
  },
  "language_info": {
   "codemirror_mode": {
    "name": "ipython",
    "version": 3
   },
   "file_extension": ".py",
   "mimetype": "text/x-python",
   "name": "python",
   "nbconvert_exporter": "python",
   "pygments_lexer": "ipython3",
   "version": "3.9.7"
  }
 },
 "nbformat": 4,
 "nbformat_minor": 5
}
